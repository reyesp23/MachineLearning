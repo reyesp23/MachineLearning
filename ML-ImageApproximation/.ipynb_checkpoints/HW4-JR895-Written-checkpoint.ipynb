{
 "cells": [
  {
   "cell_type": "markdown",
   "id": "25270783",
   "metadata": {},
   "source": [
    "# Homework 4\n",
    "CS5785 Applied Machine Learning -\n",
    "José Patricio Reyes Lorenzo - jr895 - \n",
    "jr895@cornell.edu"
   ]
  },
  {
   "cell_type": "code",
   "execution_count": 64,
   "id": "b0d0c5e3",
   "metadata": {},
   "outputs": [],
   "source": [
    "import numpy as np\n",
    "from matplotlib import pylab as plt\n",
    "%matplotlib inline"
   ]
  },
  {
   "cell_type": "markdown",
   "id": "32532783",
   "metadata": {},
   "source": [
    "# Maximum Margin Classifiers"
   ]
  },
  {
   "cell_type": "markdown",
   "id": "d268fc21",
   "metadata": {},
   "source": [
    "Suppose we are given n = 7 observations in p = 2 dimensions. For each observation, there is an associated class label.\n",
    "\n",
    "<left><img width=10% src=\"observations.png\"></left>"
   ]
  },
  {
   "cell_type": "markdown",
   "id": "51d2484c",
   "metadata": {},
   "source": [
    "#### a) Sketch the observations and the maximum- margin separating hyperplane."
   ]
  },
  {
   "cell_type": "code",
   "execution_count": 65,
   "id": "9b760b42",
   "metadata": {},
   "outputs": [],
   "source": [
    "x1 = [3,2,4,1,2,4,4]\n",
    "x2 = [4,2,4,4,1,3,1]\n",
    "Y = ['red', 'red', 'red', 'red', 'blue', 'blue','blue']"
   ]
  },
  {
   "cell_type": "code",
   "execution_count": 66,
   "id": "607b9e8a",
   "metadata": {},
   "outputs": [
    {
     "data": {
      "text/plain": [
       "Text(0, 0.5, 'X2')"
      ]
     },
     "execution_count": 66,
     "metadata": {},
     "output_type": "execute_result"
    },
    {
     "data": {
      "image/png": "[encoded data removed]",
      "text/plain": [
       "<Figure size 432x288 with 1 Axes>"
      ]
     },
     "metadata": {
      "needs_background": "light"
     },
     "output_type": "display_data"
    }
   ],
   "source": [
    "plt.scatter(x1,x2, color = Y, s=20)\n",
    "plt.plot([0, 5], [-0.5, 4.5], '-')\n",
    "plt.xlim(0,5)\n",
    "plt.ylim(0,5)\n",
    "plt.xlabel('X1')\n",
    "plt.ylabel('X2')"
   ]
  },
  {
   "cell_type": "markdown",
   "id": "28e2d5b3",
   "metadata": {},
   "source": [
    "#### b) Describe the classification rule for the maximal margin classifier. It should be something along the lines of “Classify to Red if β0+β1X1+ β2X2>0, and classify to Blue otherwise.”Provide the values for β0, β1, and β2."
   ]
  },
  {
   "cell_type": "markdown",
   "id": "3765c489",
   "metadata": {},
   "source": [
    "We want to find the values for $\\beta$ to get a rule of the following form:\n",
    "\n",
    "$$\\beta _{0} +\\beta _{1} X_{1} +\\beta _{2} X_{2}  > 0$$\n",
    "\n",
    "We reshape our equation to look like the equation of a line $ y = mx + b $\n",
    "\n",
    "$$ \\beta _{0} +\\beta _{1} x+\\beta _{2} y >\\ 0$$\n",
    "\n",
    "$$\\beta _{2} y >\\ -\\beta _{0} -\\beta _{1} x$$\n",
    "\n",
    "$$y >-\\frac{\\beta _{1}}{\\beta _{2}} x\\ -\\frac{\\beta _{0}}{\\beta _{2}}$$\n",
    "\n",
    "The parameters of the line in terms of $\\beta$ are:\n",
    "\n",
    "$$ m\\ =-\\frac{\\beta _{1}}{\\beta _{2}} ,\\ b\\ =\\ -\\frac{\\beta _{0}}{\\beta _{2}}$$\n",
    "\n",
    "$$\\beta _{0} +\\beta _{1} X_{1} +\\beta _{2} X_{2}  >\\ 0$$\n",
    "\n",
    "We know that the separating hyperplane passes throught the following points\n",
    "\n",
    "$$p_{1\\ =\\ ( 2,\\ 1.5)}$$\n",
    "$$p_{2\\ =\\ ( 4,\\ 3.5)}$$\n",
    "\n",
    "Therefore we can solve for m and b \n",
    "\n",
    "$$m\\ =\\ \\frac{y_{2} -y_{1}}{x_{2} -x_{1}} =\\frac{3.5-1.5}{4-2} =1$$\n",
    "\n",
    "$$y \\ =\\ mx \\ +\\ b$$\n",
    "$$y =\\ x \\ -1/2$$\n",
    "\n",
    "$$1.5\\ =2-0.5 \\rightarrow \\ b\\ =-0.5$$\n",
    "\n",
    "We substitute this values to solve for  $\\beta s$\n",
    "$$1=-\\frac{\\beta 1}{\\beta _{2}} \\ \\rightarrow \\ \\beta _{1} \\ =-\\beta _{2}$$\n",
    "\n",
    "$$b\\ =\\ -\\frac{\\beta _{0}}{\\beta _{2}} \\ =-0.5\\ \\rightarrow \\ \\frac{\\beta _{0}}{\\beta _{2}} \\ =\\ \\frac{1}{2}$$\n",
    "\n",
    "\n",
    "And obtain the values:\n",
    "$$\\beta _{0} \\ =1,\\ \\beta _{1} =-2,\\ \\beta _{2} =2$$\n",
    "\n",
    "We can substitue back into our original equation to get the classification rule\n",
    "\n",
    "$$\\beta _{0} +\\beta _{1} X_{1} +\\beta _{2} X_{2}  >0 \\rightarrow  1-2 X_{1} +2X_{2}  >\\ 0$$\n",
    "\n",
    "And simplify\n",
    "$$X_{1} -X_{2} -0.5\\ < \\ 0$$"
   ]
  },
  {
   "cell_type": "markdown",
   "id": "6b362b63",
   "metadata": {},
   "source": [
    "#### c. On your sketch, indicate the margin for the maximal margin hyperplane."
   ]
  },
  {
   "cell_type": "markdown",
   "id": "919fd849",
   "metadata": {},
   "source": [
    "Margin 1 passes through points\n",
    "$$p_{1\\ =\\ (2, 2)}$$\n",
    "$$p_{2\\ =\\ (4, 4)}$$\n",
    "$$y = x$$\n",
    "\n",
    "Margin 2 passes through points\n",
    "$$p_{1\\ =\\ (2, 1)}$$\n",
    "$$p_{2\\ =\\ (4, 3)}$$\n",
    "$$y =\\ x \\ -1$$\n"
   ]
  },
  {
   "cell_type": "code",
   "execution_count": 79,
   "id": "94c718bc",
   "metadata": {},
   "outputs": [
    {
     "data": {
      "text/plain": [
       "(0.0, 5.0)"
      ]
     },
     "execution_count": 79,
     "metadata": {},
     "output_type": "execute_result"
    },
    {
     "data": {
      "image/png": "[encoded data removed]",
      "text/plain": [
       "<Figure size 432x288 with 1 Axes>"
      ]
     },
     "metadata": {
      "needs_background": "light"
     },
     "output_type": "display_data"
    }
   ],
   "source": [
    "plt.scatter(x1,x2, color = Y, s=20)\n",
    "plt.plot([0, 5], [-0.5, 4.5], '-')\n",
    "plt.plot([0, 5], [0, 5], '--', color = 'orange', linewidth=0.5)\n",
    "plt.plot([0, 5], [-1, 4], '--', color = 'orange', linewidth=0.5)\n",
    "\n",
    "plt.xlabel('X1')\n",
    "plt.ylabel('X2')\n",
    "plt.xlim(0,5)\n",
    "plt.ylim(0,5)"
   ]
  },
  {
   "cell_type": "markdown",
   "id": "1f377849",
   "metadata": {},
   "source": [
    "#### d. Indicate the support vectors for the maximal margin classifier."
   ]
  },
  {
   "cell_type": "markdown",
   "id": "e626d9b0",
   "metadata": {},
   "source": [
    "The support vectors for the maximal margin classifier are:\n",
    "$$p_{1\\ =\\ ( 2, 1)}$$\n",
    "$$p_{2\\ =\\ ( 2, 2)}$$\n",
    "$$p_{3\\ =\\ ( 4, 3)}$$\n",
    "$$p_{4\\ =\\ ( 4, 4)}$$"
   ]
  },
  {
   "cell_type": "code",
   "execution_count": 80,
   "id": "4005a76f",
   "metadata": {},
   "outputs": [
    {
     "data": {
      "text/plain": [
       "Text(0, 0.5, 'X2')"
      ]
     },
     "execution_count": 80,
     "metadata": {},
     "output_type": "execute_result"
    },
    {
     "data": {
      "image/png": "[encoded data removed]",
      "text/plain": [
       "<Figure size 432x288 with 1 Axes>"
      ]
     },
     "metadata": {
      "needs_background": "light"
     },
     "output_type": "display_data"
    }
   ],
   "source": [
    "plt.scatter(x1,x2, color = Y, s=20)\n",
    "plt.xlim(0,5)\n",
    "plt.ylim(0,5)\n",
    "plt.plot([0, 5], [-0.5, 4.5], '-')\n",
    "support_vectors_x1 = [2, 2, 4, 4]\n",
    "support_vectors_x2 = [1,2,3,4]\n",
    "plt.plot([0, 5], [0, 5], '--', color = 'orange', linewidth=0.5)\n",
    "plt.plot([0, 5], [-1, 4], '--', color = 'orange', linewidth=0.5)\n",
    "plt.scatter(support_vectors_x1, support_vectors_x2, s=120, linewidth=0.75, facecolors='none', edgecolors='k')\n",
    "plt.xlabel('X1')\n",
    "plt.ylabel('X2')"
   ]
  },
  {
   "cell_type": "markdown",
   "id": "31d888e8",
   "metadata": {},
   "source": [
    "#### e. Argue that a slight movement of the seventh observation would not affect the maximal margin hyperplane."
   ]
  },
  {
   "cell_type": "markdown",
   "id": "6574262f",
   "metadata": {},
   "source": [
    "The seventh observation is located at (4, 1). We can clearly see that slight movement of this point in any direction has no effect on the maximal margin hyperplane. The regions remain the same since these points are not support vectors."
   ]
  },
  {
   "cell_type": "markdown",
   "id": "c6903518",
   "metadata": {},
   "source": [
    "#### f. Sketch a hyperplane that separates the data, but is not the maximum-margin separating hyperplane. Provide the equation for this hyperplane."
   ]
  },
  {
   "cell_type": "markdown",
   "id": "3c96dd2c",
   "metadata": {},
   "source": [
    "The plane with the following equation separates the data but is not the maximum margin-margin separating hyperplane\n",
    "\n",
    "$$y =\\frac{4}{5}x $$"
   ]
  },
  {
   "cell_type": "code",
   "execution_count": 69,
   "id": "d739ff41",
   "metadata": {},
   "outputs": [
    {
     "data": {
      "text/plain": [
       "Text(0, 0.5, 'X2')"
      ]
     },
     "execution_count": 69,
     "metadata": {},
     "output_type": "execute_result"
    },
    {
     "data": {
      "image/png": "[encoded data removed]",
      "text/plain": [
       "<Figure size 432x288 with 1 Axes>"
      ]
     },
     "metadata": {
      "needs_background": "light"
     },
     "output_type": "display_data"
    }
   ],
   "source": [
    "plt.scatter(x1,x2, color = Y, s=20)\n",
    "plt.xlim(0,5)\n",
    "plt.ylim(0,5)\n",
    "plt.plot([0, 5], [0, 4], '-')\n",
    "plt.xlabel('X1')\n",
    "plt.ylabel('X2')"
   ]
  },
  {
   "cell_type": "markdown",
   "id": "06af5f5d",
   "metadata": {},
   "source": [
    "#### g. Draw an additional observation on the plot so that the two classes are no longer separable bya hyperplane."
   ]
  },
  {
   "cell_type": "markdown",
   "id": "9e5ff65a",
   "metadata": {},
   "source": [
    "By adding a point at (3, 1), the classes are no longer separable by a hyperplane"
   ]
  },
  {
   "cell_type": "code",
   "execution_count": 70,
   "id": "05e025f7",
   "metadata": {},
   "outputs": [],
   "source": [
    "x1 = [3,2,4,1,2,4,4,3]\n",
    "x2 = [4,2,4,4,1,3,1,1]\n",
    "Y = ['red', 'red', 'red', 'red', 'blue', 'blue','blue','red']"
   ]
  },
  {
   "cell_type": "code",
   "execution_count": 71,
   "id": "c4baba4f",
   "metadata": {},
   "outputs": [
    {
     "data": {
      "text/plain": [
       "Text(0, 0.5, 'X2')"
      ]
     },
     "execution_count": 71,
     "metadata": {},
     "output_type": "execute_result"
    },
    {
     "data": {
      "image/png": "[encoded data removed]",
      "text/plain": [
       "<Figure size 432x288 with 1 Axes>"
      ]
     },
     "metadata": {
      "needs_background": "light"
     },
     "output_type": "display_data"
    }
   ],
   "source": [
    "plt.scatter(x1,x2, color = Y, s=20)\n",
    "plt.scatter([3], [1], s=120, linewidth=0.75, facecolors='none', edgecolors='k')\n",
    "plt.xlim(0,5)\n",
    "plt.ylim(0,5)\n",
    "plt.xlabel('X1')\n",
    "plt.ylabel('X2')"
   ]
  },
  {
   "cell_type": "markdown",
   "id": "2804eff9",
   "metadata": {},
   "source": [
    "# Neural Networks as Function Approximators."
   ]
  },
  {
   "cell_type": "markdown",
   "id": "2749211a",
   "metadata": {},
   "source": [
    "Design a feed-forward neural network to approx- imate the 1-dimensional function given in Fig. 2. The output should match exactly. How many hidden layers do you need? How many units are there within each layer? Show the hidden layers, units, connections, weights, and biases."
   ]
  },
  {
   "cell_type": "markdown",
   "id": "8eb982cf",
   "metadata": {},
   "source": [
    "<left><img width=50% src=\"fig1.png\"></left>"
   ]
  },
  {
   "cell_type": "markdown",
   "id": "20403dcd",
   "metadata": {},
   "source": [
    "#### ReLU units"
   ]
  },
  {
   "cell_type": "markdown",
   "id": "647ffcc2",
   "metadata": {},
   "source": [
    "We identify the slope and the value of x where the slope changes for each of the 5 elements of the piece-wise function. We can express the input function as a sum of weighted and scaled ReLU units. "
   ]
  },
  {
   "cell_type": "markdown",
   "id": "3671c5bc",
   "metadata": {},
   "source": [
    "$$ y=\\; 2\\sigma \\left( x-1 \\right)\\; -\\; \\frac{5}{3}\\sigma \\left( x-2 \\right)\\; +\\; \\frac{5}{3}\\sigma \\left( x-5 \\right)\\; -\\; \\frac{11}{3}\\sigma \\left( x-6 \\right)\\; +\\; \\; \\frac{5}{3}\\sigma \\left( x-9 \\right)\\;  $$"
   ]
  },
  {
   "cell_type": "markdown",
   "id": "2158dd6e",
   "metadata": {},
   "source": [
    "We used a grapher to validate that the function obtained is the exact match"
   ]
  },
  {
   "cell_type": "markdown",
   "id": "03d53354",
   "metadata": {},
   "source": [
    "<left><img width=50% src=\"nn-plot.png\"></left>"
   ]
  },
  {
   "cell_type": "markdown",
   "id": "f1bb50ee",
   "metadata": {},
   "source": [
    "#### Weights and biases"
   ]
  },
  {
   "cell_type": "markdown",
   "id": "cf536c81",
   "metadata": {},
   "source": [
    "We can extract the weight and bias of each ReLU unit"
   ]
  },
  {
   "cell_type": "markdown",
   "id": "760f6df9",
   "metadata": {},
   "source": [
    "$$ y \\ =\\ \\sigma(wx + b) $$"
   ]
  },
  {
   "cell_type": "markdown",
   "id": "74fc8e4f",
   "metadata": {},
   "source": [
    "$$ y\\; \\; =\\; \\sigma \\left( 2x-2 \\right)\\; \\; -\\; \\sigma \\left( \\frac{5}{3}x-\\frac{10}{3} \\right)\\; +\\; \\sigma \\left( \\frac{5}{3}x-\\frac{25}{3} \\right)\\; -\\; \\sigma \\left( \\frac{11}{3}x-\\frac{66}{3} \\right)\\; +\\; \\; \\sigma \\left( \\frac{5}{3}x-\\frac{45}{3} \\right)\\; $$"
   ]
  },
  {
   "cell_type": "markdown",
   "id": "85375602",
   "metadata": {},
   "source": [
    "#### Unit 1\n",
    "w = 2, \n",
    "b = -2\n",
    "\n",
    "#### Unit 2\n",
    "w = 5/3, \n",
    "b = -10/3\n",
    "\n",
    "#### Unit 3\n",
    "w = 5/3, \n",
    "b = -25/3\n",
    "\n",
    "#### Unit 4\n",
    "w = 11/3, \n",
    "b = -66/3\n",
    "\n",
    "#### Unit 5\n",
    "w = 5/3, \n",
    "b = -45/3"
   ]
  },
  {
   "cell_type": "markdown",
   "id": "b076c74d",
   "metadata": {},
   "source": [
    "#### Neural Net"
   ]
  },
  {
   "cell_type": "markdown",
   "id": "ccb15210",
   "metadata": {},
   "source": [
    "We use the weights and biases to build one hidden layer with 5 units. We multiply times the 1 or -1 accordingly and sum the different weights on the output layer. \n",
    "<left><img width=40% src=\"nn-final.png\"></left>"
   ]
  }
 ],
 "metadata": {
  "kernelspec": {
   "display_name": "Python 3",
   "language": "python",
   "name": "python3"
  },
  "language_info": {
   "codemirror_mode": {
    "name": "ipython",
    "version": 3
   },
   "file_extension": ".py",
   "mimetype": "text/x-python",
   "name": "python",
   "nbconvert_exporter": "python",
   "pygments_lexer": "ipython3",
   "version": "3.8.8"
  }
 },
 "nbformat": 4,
 "nbformat_minor": 5
}
