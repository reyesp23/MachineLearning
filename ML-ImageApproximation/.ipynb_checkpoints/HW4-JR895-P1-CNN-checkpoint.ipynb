{
 "cells": [
  {
   "cell_type": "markdown",
   "id": "3685c215",
   "metadata": {},
   "source": [
    "# Homework 4\n",
    "CS5785 Applied Machine Learning -\n",
    "José Patricio Reyes Lorenzo - jr895 - \n",
    "jr895@cornell.edu"
   ]
  },
  {
   "cell_type": "code",
   "execution_count": 1,
   "id": "c70aecd9",
   "metadata": {},
   "outputs": [],
   "source": [
    "import numpy as np\n",
    "import imageio\n",
    "from matplotlib import pylab as plt\n",
    "import matplotlib.cm as cm\n",
    "import keras\n",
    "%matplotlib inline"
   ]
  },
  {
   "cell_type": "markdown",
   "id": "b3f2fb5e",
   "metadata": {},
   "source": [
    "## I. Convolutional Neural Networks"
   ]
  },
  {
   "cell_type": "markdown",
   "id": "e4ab6cb7",
   "metadata": {},
   "source": [
    "### a) Loading dataset"
   ]
  },
  {
   "cell_type": "markdown",
   "id": "ee449eee",
   "metadata": {},
   "source": [
    "Import mnist"
   ]
  },
  {
   "cell_type": "code",
   "execution_count": 2,
   "id": "6c0c1ebb",
   "metadata": {},
   "outputs": [],
   "source": [
    "from keras.datasets import mnist\n",
    "(train_X, train_Y), (test_X, test_Y) = mnist.load_data()"
   ]
  },
  {
   "cell_type": "markdown",
   "id": "cd353544",
   "metadata": {},
   "source": [
    "To verify that you have loaded the dataset correctly, try printing out the shape of your train and test dataset matrices."
   ]
  },
  {
   "cell_type": "code",
   "execution_count": 3,
   "id": "d6c1bb34",
   "metadata": {},
   "outputs": [
    {
     "name": "stdout",
     "output_type": "stream",
     "text": [
      "(60000, 28, 28)\n",
      "(60000,)\n",
      "(10000, 28, 28)\n",
      "(10000,)\n"
     ]
    }
   ],
   "source": [
    "print(train_X.shape)\n",
    "print(train_Y.shape)\n",
    "print(test_X.shape)\n",
    "print(test_Y.shape)"
   ]
  },
  {
   "cell_type": "markdown",
   "id": "30d9e825",
   "metadata": {},
   "source": [
    "Also, try to visualize individual images in this dataset by using imshow() function in pyplot."
   ]
  },
  {
   "cell_type": "code",
   "execution_count": 4,
   "id": "e6f215d7",
   "metadata": {},
   "outputs": [
    {
     "data": {
      "text/plain": [
       "<matplotlib.image.AxesImage at 0x7fc9561bbf40>"
      ]
     },
     "execution_count": 4,
     "metadata": {},
     "output_type": "execute_result"
    },
    {
     "data": {
      "image/png": "[encoded data removed]",
      "text/plain": [
       "<Figure size 432x288 with 1 Axes>"
      ]
     },
     "metadata": {
      "needs_background": "light"
     },
     "output_type": "display_data"
    }
   ],
   "source": [
    "plt.imshow(train_X[0], cmap=plt.get_cmap('gray'))"
   ]
  },
  {
   "cell_type": "markdown",
   "id": "7321c55f",
   "metadata": {},
   "source": [
    "### b) Pre-processing"
   ]
  },
  {
   "cell_type": "markdown",
   "id": "fe0d8ca3",
   "metadata": {},
   "source": [
    "Since we use just one grayscale color channel, you need to reshape the matrix such that we have a 28 x 28 x 1 sized matrix holding each input data-point in the training and testing dataset. "
   ]
  },
  {
   "cell_type": "code",
   "execution_count": 5,
   "id": "b7c6a3c6",
   "metadata": {},
   "outputs": [],
   "source": [
    "train_X = train_X.reshape((train_X.shape[0], 28, 28, 1))\n",
    "test_X = test_X.reshape((test_X.shape[0], 28, 28, 1))"
   ]
  },
  {
   "cell_type": "markdown",
   "id": "c87aa021",
   "metadata": {},
   "source": [
    "The output variable can be converted into a one-hot vector by using the function to_categorical"
   ]
  },
  {
   "cell_type": "code",
   "execution_count": 6,
   "id": "0e51f2e3",
   "metadata": {},
   "outputs": [],
   "source": [
    "from tensorflow.keras.utils import to_categorical\n",
    "train_Y = to_categorical(train_Y)\n",
    "test_Y = to_categorical(test_Y)"
   ]
  },
  {
   "cell_type": "markdown",
   "id": "e4e8b20d",
   "metadata": {},
   "source": [
    "Scale the pixel values such that they lie between 0.0 and 1.0. Make sure that you use the appropriate conversion to float wherever required while scaling."
   ]
  },
  {
   "cell_type": "code",
   "execution_count": 7,
   "id": "cefe1960",
   "metadata": {},
   "outputs": [],
   "source": [
    "train_X = train_X.astype('float32')\n",
    "test_X = test_X.astype('float32')\n",
    "train_X = train_X / 255.0\n",
    "test_X = test_X / 255.0"
   ]
  },
  {
   "cell_type": "code",
   "execution_count": 8,
   "id": "a98bc7fa",
   "metadata": {},
   "outputs": [
    {
     "data": {
      "text/plain": [
       "Text(0.5, 0.98, 'Samples')"
      ]
     },
     "execution_count": 8,
     "metadata": {},
     "output_type": "execute_result"
    },
    {
     "data": {
      "image/png": "[encoded data removed]",
      "text/plain": [
       "<Figure size 1080x360 with 5 Axes>"
      ]
     },
     "metadata": {
      "needs_background": "light"
     },
     "output_type": "display_data"
    }
   ],
   "source": [
    "fig, axs = plt.subplots(1,3,figsize=(15,5))\n",
    "for i in np.arange(5):\n",
    "    ax = plt.subplot(2,5,i+1)\n",
    "    plt.imshow(train_X[i], cmap=plt.get_cmap('gray'))\n",
    "fig.suptitle(\"Samples\", fontsize=20)"
   ]
  },
  {
   "cell_type": "markdown",
   "id": "805455f1",
   "metadata": {},
   "source": [
    "### C) Implementation"
   ]
  },
  {
   "cell_type": "code",
   "execution_count": 9,
   "id": "44342141",
   "metadata": {},
   "outputs": [],
   "source": [
    "from keras.models import Sequential\n",
    "from keras.layers import Conv2D\n",
    "from keras.layers import MaxPooling2D\n",
    "from keras.layers import Dense\n",
    "from keras.layers import Flatten\n",
    "from keras.layers import Dropout\n",
    "from tensorflow.keras.optimizers import SGD"
   ]
  },
  {
   "cell_type": "code",
   "execution_count": 10,
   "id": "c12a5f84",
   "metadata": {},
   "outputs": [],
   "source": [
    "def create_cnn():\n",
    "    # Define using Sequential\n",
    "    model = Sequential()\n",
    "    # Convolution layer\n",
    "    model.add(\n",
    "        Conv2D(32, (3, 3), activation= 'relu', kernel_initializer='he_uniform', input_shape=(28, 28, 1)))\n",
    "    # Maxpooling layer\n",
    "    model.add(MaxPooling2D((2, 2)))\n",
    "    # Flatten output\n",
    "    model.add(Flatten ())\n",
    "    # Dense layer of 100 neurons\n",
    "    model.add(Dense (100, activation= 'relu', kernel_initializer='he_uniform'))\n",
    "    model.add(Dense(10, activation='softmax')) # initialize optimizer\n",
    "    opt = SGD(learning_rate=0.01, momentum=0.9)\n",
    "    # Compile model\n",
    "    model.compile(optimizer=opt, loss= 'categorical_crossentropy', metrics =['accuracy'])\n",
    "    return model"
   ]
  },
  {
   "cell_type": "code",
   "execution_count": 11,
   "id": "7e61d5cb",
   "metadata": {},
   "outputs": [
    {
     "data": {
      "text/plain": [
       "[<keras.layers.convolutional.Conv2D at 0x7fc93f0d5ac0>,\n",
       " <keras.layers.pooling.MaxPooling2D at 0x7fc93f24bfd0>,\n",
       " <keras.layers.core.flatten.Flatten at 0x7fc93f24bdf0>,\n",
       " <keras.layers.core.dense.Dense at 0x7fc93f2f3040>,\n",
       " <keras.layers.core.dense.Dense at 0x7fc93f324d60>]"
      ]
     },
     "execution_count": 11,
     "metadata": {},
     "output_type": "execute_result"
    }
   ],
   "source": [
    "model = create_cnn()\n",
    "\n",
    "### Print layers\n",
    "model.layers"
   ]
  },
  {
   "cell_type": "markdown",
   "id": "d1af1309",
   "metadata": {},
   "source": [
    "### (d) Training and Evaluating CNN"
   ]
  },
  {
   "cell_type": "code",
   "execution_count": 12,
   "id": "1139dc5f",
   "metadata": {},
   "outputs": [
    {
     "name": "stdout",
     "output_type": "stream",
     "text": [
      "Epoch 1/10\n",
      "1688/1688 [==============================] - 13s 8ms/step - loss: 0.1653 - accuracy: 0.9497 - val_loss: 0.0636 - val_accuracy: 0.9823\n",
      "Epoch 2/10\n",
      "1688/1688 [==============================] - 13s 8ms/step - loss: 0.0556 - accuracy: 0.9835 - val_loss: 0.0494 - val_accuracy: 0.9868\n",
      "Epoch 3/10\n",
      "1688/1688 [==============================] - 13s 8ms/step - loss: 0.0352 - accuracy: 0.9894 - val_loss: 0.0457 - val_accuracy: 0.9868\n",
      "Epoch 4/10\n",
      "1688/1688 [==============================] - 13s 8ms/step - loss: 0.0240 - accuracy: 0.9926 - val_loss: 0.0563 - val_accuracy: 0.9855\n",
      "Epoch 5/10\n",
      "1688/1688 [==============================] - 13s 8ms/step - loss: 0.0163 - accuracy: 0.9952 - val_loss: 0.0467 - val_accuracy: 0.9882\n",
      "Epoch 6/10\n",
      "1688/1688 [==============================] - 13s 8ms/step - loss: 0.0106 - accuracy: 0.9971 - val_loss: 0.0453 - val_accuracy: 0.9892\n",
      "Epoch 7/10\n",
      "1688/1688 [==============================] - 13s 8ms/step - loss: 0.0077 - accuracy: 0.9979 - val_loss: 0.0568 - val_accuracy: 0.9877\n",
      "Epoch 8/10\n",
      "1688/1688 [==============================] - 13s 8ms/step - loss: 0.0047 - accuracy: 0.9991 - val_loss: 0.0473 - val_accuracy: 0.9890\n",
      "Epoch 9/10\n",
      "1688/1688 [==============================] - 13s 8ms/step - loss: 0.0031 - accuracy: 0.9995 - val_loss: 0.0487 - val_accuracy: 0.9897\n",
      "Epoch 10/10\n",
      "1688/1688 [==============================] - 13s 8ms/step - loss: 0.0020 - accuracy: 0.9997 - val_loss: 0.0497 - val_accuracy: 0.9905\n"
     ]
    },
    {
     "data": {
      "text/plain": [
       "<keras.callbacks.History at 0x7fc93f9fa790>"
      ]
     },
     "execution_count": 12,
     "metadata": {},
     "output_type": "execute_result"
    }
   ],
   "source": [
    "model.fit(train_X, train_Y, batch_size=32, epochs=10, validation_split =0.1)"
   ]
  },
  {
   "cell_type": "code",
   "execution_count": 13,
   "id": "c23126c9",
   "metadata": {},
   "outputs": [
    {
     "data": {
      "text/plain": [
       "[0.040620386600494385, 0.9878000020980835]"
      ]
     },
     "execution_count": 13,
     "metadata": {},
     "output_type": "execute_result"
    }
   ],
   "source": [
    "model.evaluate(test_X, test_Y, verbose=0)"
   ]
  },
  {
   "cell_type": "markdown",
   "id": "58215f8c",
   "metadata": {},
   "source": [
    "### e) Experimentation"
   ]
  },
  {
   "cell_type": "code",
   "execution_count": 14,
   "id": "c25bf521",
   "metadata": {},
   "outputs": [],
   "source": [
    "def accuracy_ten(model):\n",
    "    acc = model.history['accuracy']\n",
    "    val_acc = model.history['val_accuracy']\n",
    "    acc_y = []\n",
    "    val_acc_y = []\n",
    "    \n",
    "    for i in range(0, len(val_acc)):\n",
    "        epoch = i + 1\n",
    "        if epoch % 10 == 0: \n",
    "            acc_y.append(acc[i])\n",
    "            val_acc_y.append(val_acc[i])\n",
    "    return acc_y, val_acc_y"
   ]
  },
  {
   "cell_type": "markdown",
   "id": "c6c71b26",
   "metadata": {},
   "source": [
    "i. Run the above training for 50 epochs. Using pyplot, graph the validation and training accuracy after every 10 epochs. Is there a steady improvement for both training and validation accuracy?"
   ]
  },
  {
   "cell_type": "code",
   "execution_count": 15,
   "id": "65aaed6f",
   "metadata": {},
   "outputs": [
    {
     "name": "stdout",
     "output_type": "stream",
     "text": [
      "Epoch 1/50\n",
      "1688/1688 [==============================] - 13s 8ms/step - loss: 0.0012 - accuracy: 0.9999 - val_loss: 0.0573 - val_accuracy: 0.9887\n",
      "Epoch 2/50\n",
      "1688/1688 [==============================] - 13s 8ms/step - loss: 0.0010 - accuracy: 0.9999 - val_loss: 0.0509 - val_accuracy: 0.9900\n",
      "Epoch 3/50\n",
      "1688/1688 [==============================] - 13s 8ms/step - loss: 6.8055e-04 - accuracy: 1.0000 - val_loss: 0.0526 - val_accuracy: 0.9900\n",
      "Epoch 4/50\n",
      "1688/1688 [==============================] - 13s 8ms/step - loss: 5.8512e-04 - accuracy: 1.0000 - val_loss: 0.0522 - val_accuracy: 0.9903\n",
      "Epoch 5/50\n",
      "1688/1688 [==============================] - 13s 7ms/step - loss: 4.8330e-04 - accuracy: 1.0000 - val_loss: 0.0541 - val_accuracy: 0.9895\n",
      "Epoch 6/50\n",
      "1688/1688 [==============================] - 13s 8ms/step - loss: 4.2974e-04 - accuracy: 1.0000 - val_loss: 0.0542 - val_accuracy: 0.9900\n",
      "Epoch 7/50\n",
      "1688/1688 [==============================] - 13s 8ms/step - loss: 3.8066e-04 - accuracy: 1.0000 - val_loss: 0.0550 - val_accuracy: 0.9898\n",
      "Epoch 8/50\n",
      "1688/1688 [==============================] - 13s 8ms/step - loss: 3.4492e-04 - accuracy: 1.0000 - val_loss: 0.0549 - val_accuracy: 0.9903\n",
      "Epoch 9/50\n",
      "1688/1688 [==============================] - 12s 7ms/step - loss: 3.1693e-04 - accuracy: 1.0000 - val_loss: 0.0561 - val_accuracy: 0.9900\n",
      "Epoch 10/50\n",
      "1688/1688 [==============================] - 13s 8ms/step - loss: 2.8974e-04 - accuracy: 1.0000 - val_loss: 0.0561 - val_accuracy: 0.9903\n",
      "Epoch 11/50\n",
      "1688/1688 [==============================] - 13s 7ms/step - loss: 2.6704e-04 - accuracy: 1.0000 - val_loss: 0.0570 - val_accuracy: 0.9900\n",
      "Epoch 12/50\n",
      "1688/1688 [==============================] - 13s 8ms/step - loss: 2.5208e-04 - accuracy: 1.0000 - val_loss: 0.0568 - val_accuracy: 0.9902\n",
      "Epoch 13/50\n",
      "1688/1688 [==============================] - 13s 8ms/step - loss: 2.3663e-04 - accuracy: 1.0000 - val_loss: 0.0580 - val_accuracy: 0.9902\n",
      "Epoch 14/50\n",
      "1688/1688 [==============================] - 13s 8ms/step - loss: 2.2279e-04 - accuracy: 1.0000 - val_loss: 0.0578 - val_accuracy: 0.9902\n",
      "Epoch 15/50\n",
      "1688/1688 [==============================] - 13s 8ms/step - loss: 2.0981e-04 - accuracy: 1.0000 - val_loss: 0.0581 - val_accuracy: 0.9903\n",
      "Epoch 16/50\n",
      "1688/1688 [==============================] - 13s 8ms/step - loss: 1.9812e-04 - accuracy: 1.0000 - val_loss: 0.0587 - val_accuracy: 0.9900\n",
      "Epoch 17/50\n",
      "1688/1688 [==============================] - 13s 8ms/step - loss: 1.8853e-04 - accuracy: 1.0000 - val_loss: 0.0586 - val_accuracy: 0.9905\n",
      "Epoch 18/50\n",
      "1688/1688 [==============================] - 12s 7ms/step - loss: 1.7850e-04 - accuracy: 1.0000 - val_loss: 0.0593 - val_accuracy: 0.9903\n",
      "Epoch 19/50\n",
      "1688/1688 [==============================] - 12s 7ms/step - loss: 1.6994e-04 - accuracy: 1.0000 - val_loss: 0.0595 - val_accuracy: 0.9902\n",
      "Epoch 20/50\n",
      "1688/1688 [==============================] - 12s 7ms/step - loss: 1.6297e-04 - accuracy: 1.0000 - val_loss: 0.0596 - val_accuracy: 0.9908\n",
      "Epoch 21/50\n",
      "1688/1688 [==============================] - 12s 7ms/step - loss: 1.5630e-04 - accuracy: 1.0000 - val_loss: 0.0604 - val_accuracy: 0.9900\n",
      "Epoch 22/50\n",
      "1688/1688 [==============================] - 12s 7ms/step - loss: 1.4989e-04 - accuracy: 1.0000 - val_loss: 0.0603 - val_accuracy: 0.9905\n",
      "Epoch 23/50\n",
      "1688/1688 [==============================] - 12s 7ms/step - loss: 1.4286e-04 - accuracy: 1.0000 - val_loss: 0.0606 - val_accuracy: 0.9905\n",
      "Epoch 24/50\n",
      "1688/1688 [==============================] - 12s 7ms/step - loss: 1.3778e-04 - accuracy: 1.0000 - val_loss: 0.0609 - val_accuracy: 0.9903\n",
      "Epoch 25/50\n",
      "1688/1688 [==============================] - 12s 7ms/step - loss: 1.3301e-04 - accuracy: 1.0000 - val_loss: 0.0609 - val_accuracy: 0.9905\n",
      "Epoch 26/50\n",
      "1688/1688 [==============================] - 12s 7ms/step - loss: 1.2726e-04 - accuracy: 1.0000 - val_loss: 0.0612 - val_accuracy: 0.9903\n",
      "Epoch 27/50\n",
      "1688/1688 [==============================] - 12s 7ms/step - loss: 1.2380e-04 - accuracy: 1.0000 - val_loss: 0.0619 - val_accuracy: 0.9908\n",
      "Epoch 28/50\n",
      "1688/1688 [==============================] - 12s 7ms/step - loss: 1.1925e-04 - accuracy: 1.0000 - val_loss: 0.0620 - val_accuracy: 0.9903\n",
      "Epoch 29/50\n",
      "1688/1688 [==============================] - 12s 7ms/step - loss: 1.1567e-04 - accuracy: 1.0000 - val_loss: 0.0618 - val_accuracy: 0.9902\n",
      "Epoch 30/50\n",
      "1688/1688 [==============================] - 12s 7ms/step - loss: 1.1109e-04 - accuracy: 1.0000 - val_loss: 0.0619 - val_accuracy: 0.9903\n",
      "Epoch 31/50\n",
      "1688/1688 [==============================] - 12s 7ms/step - loss: 1.0837e-04 - accuracy: 1.0000 - val_loss: 0.0620 - val_accuracy: 0.9902\n",
      "Epoch 32/50\n",
      "1688/1688 [==============================] - 12s 7ms/step - loss: 1.0496e-04 - accuracy: 1.0000 - val_loss: 0.0626 - val_accuracy: 0.9903\n",
      "Epoch 33/50\n",
      "1688/1688 [==============================] - 12s 7ms/step - loss: 1.0133e-04 - accuracy: 1.0000 - val_loss: 0.0628 - val_accuracy: 0.9903\n",
      "Epoch 34/50\n",
      "1688/1688 [==============================] - 12s 7ms/step - loss: 9.9000e-05 - accuracy: 1.0000 - val_loss: 0.0634 - val_accuracy: 0.9903\n",
      "Epoch 35/50\n",
      "1688/1688 [==============================] - 12s 7ms/step - loss: 9.5662e-05 - accuracy: 1.0000 - val_loss: 0.0630 - val_accuracy: 0.9903\n",
      "Epoch 36/50\n",
      "1688/1688 [==============================] - 12s 7ms/step - loss: 9.3593e-05 - accuracy: 1.0000 - val_loss: 0.0635 - val_accuracy: 0.9903\n",
      "Epoch 37/50\n",
      "1688/1688 [==============================] - 12s 7ms/step - loss: 9.0683e-05 - accuracy: 1.0000 - val_loss: 0.0635 - val_accuracy: 0.9900\n",
      "Epoch 38/50\n",
      "1688/1688 [==============================] - 12s 7ms/step - loss: 8.8348e-05 - accuracy: 1.0000 - val_loss: 0.0634 - val_accuracy: 0.9903\n",
      "Epoch 39/50\n",
      "1688/1688 [==============================] - 12s 7ms/step - loss: 8.5931e-05 - accuracy: 1.0000 - val_loss: 0.0638 - val_accuracy: 0.9902\n",
      "Epoch 40/50\n",
      "1688/1688 [==============================] - 12s 7ms/step - loss: 8.4057e-05 - accuracy: 1.0000 - val_loss: 0.0639 - val_accuracy: 0.9903\n",
      "Epoch 41/50\n",
      "1688/1688 [==============================] - 12s 7ms/step - loss: 8.1474e-05 - accuracy: 1.0000 - val_loss: 0.0647 - val_accuracy: 0.9905\n",
      "Epoch 42/50\n",
      "1688/1688 [==============================] - 12s 7ms/step - loss: 8.0076e-05 - accuracy: 1.0000 - val_loss: 0.0644 - val_accuracy: 0.9903\n",
      "Epoch 43/50\n",
      "1688/1688 [==============================] - 12s 7ms/step - loss: 7.8138e-05 - accuracy: 1.0000 - val_loss: 0.0644 - val_accuracy: 0.9902\n",
      "Epoch 44/50\n",
      "1688/1688 [==============================] - 12s 7ms/step - loss: 7.6198e-05 - accuracy: 1.0000 - val_loss: 0.0647 - val_accuracy: 0.9902\n",
      "Epoch 45/50\n",
      "1688/1688 [==============================] - 12s 7ms/step - loss: 7.4436e-05 - accuracy: 1.0000 - val_loss: 0.0645 - val_accuracy: 0.9903\n",
      "Epoch 46/50\n",
      "1688/1688 [==============================] - 12s 7ms/step - loss: 7.2737e-05 - accuracy: 1.0000 - val_loss: 0.0646 - val_accuracy: 0.9903\n",
      "Epoch 47/50\n",
      "1688/1688 [==============================] - 12s 7ms/step - loss: 7.1220e-05 - accuracy: 1.0000 - val_loss: 0.0650 - val_accuracy: 0.9902\n",
      "Epoch 48/50\n",
      "1688/1688 [==============================] - 12s 7ms/step - loss: 6.9829e-05 - accuracy: 1.0000 - val_loss: 0.0647 - val_accuracy: 0.9903\n",
      "Epoch 49/50\n",
      "1688/1688 [==============================] - 12s 7ms/step - loss: 6.8462e-05 - accuracy: 1.0000 - val_loss: 0.0650 - val_accuracy: 0.9902\n",
      "Epoch 50/50\n",
      "1688/1688 [==============================] - 12s 7ms/step - loss: 6.6793e-05 - accuracy: 1.0000 - val_loss: 0.0651 - val_accuracy: 0.9902\n"
     ]
    }
   ],
   "source": [
    "epoch_history = model.fit(train_X, train_Y, batch_size=32, epochs=50, validation_split =0.1)"
   ]
  },
  {
   "cell_type": "code",
   "execution_count": 16,
   "id": "6974bfb5",
   "metadata": {},
   "outputs": [
    {
     "data": {
      "text/plain": [
       "[0.05211472138762474, 0.9871000051498413]"
      ]
     },
     "execution_count": 16,
     "metadata": {},
     "output_type": "execute_result"
    }
   ],
   "source": [
    "model.evaluate(test_X, test_Y, verbose=0)\n"
   ]
  },
  {
   "cell_type": "code",
   "execution_count": 17,
   "id": "f06de6b4",
   "metadata": {},
   "outputs": [],
   "source": [
    "acc, val_acc = accuracy_ten(epoch_history)"
   ]
  },
  {
   "cell_type": "code",
   "execution_count": 18,
   "id": "84bef4cd",
   "metadata": {},
   "outputs": [
    {
     "data": {
      "text/plain": [
       "Text(0.5, 1.0, 'Training Accuracy after every 10 epochs')"
      ]
     },
     "execution_count": 18,
     "metadata": {},
     "output_type": "execute_result"
    },
    {
     "data": {
      "image/png": "[encoded data removed]",
      "text/plain": [
       "<Figure size 432x288 with 1 Axes>"
      ]
     },
     "metadata": {
      "needs_background": "light"
     },
     "output_type": "display_data"
    }
   ],
   "source": [
    "plt.plot([10,20,30,40,50], acc)\n",
    "plt.xlabel('Epochs')\n",
    "plt.ylabel('Training Accuracy')\n",
    "plt.title(\"Training Accuracy after every 10 epochs\")"
   ]
  },
  {
   "cell_type": "code",
   "execution_count": 19,
   "id": "24147ab5",
   "metadata": {},
   "outputs": [
    {
     "data": {
      "text/plain": [
       "Text(0.5, 1.0, 'Validation Accuracy after every 10 epochs')"
      ]
     },
     "execution_count": 19,
     "metadata": {},
     "output_type": "execute_result"
    },
    {
     "data": {
      "image/png": "[encoded data removed]",
      "text/plain": [
       "<Figure size 432x288 with 1 Axes>"
      ]
     },
     "metadata": {
      "needs_background": "light"
     },
     "output_type": "display_data"
    }
   ],
   "source": [
    "plt.plot([10,20,30,40,50], val_acc)\n",
    "plt.xlabel('Epochs')\n",
    "plt.ylabel('Validation Accuracy')\n",
    "plt.title(\"Validation Accuracy after every 10 epochs\")"
   ]
  },
  {
   "cell_type": "markdown",
   "id": "1a75d658",
   "metadata": {},
   "source": [
    "ii. To avoid over-fitting in neural networks, we can ‘dropout’ a certain fraction of units randomly during the training phase. You can add the following layer (before the dense layer with 100 neurons) to your model defined in the function create_cnn."
   ]
  },
  {
   "cell_type": "code",
   "execution_count": 20,
   "id": "0b5f4684",
   "metadata": {},
   "outputs": [],
   "source": [
    "def create_cnn_ii():\n",
    "    # define using Sequential\n",
    "    model = Sequential()\n",
    "    # Convolution layer\n",
    "    model.add(Conv2D(32, (3, 3), activation= 'relu', kernel_initializer='he_uniform', input_shape=(28, 28, 1)))\n",
    "    # Maxpooling layer\n",
    "    model.add(MaxPooling2D((2, 2)))\n",
    "    # Flatten output\n",
    "    model.add(Flatten ())\n",
    "    # Dropout layer\n",
    "    model.add(Dropout(0.5))\n",
    "    # Dense layer of 100 neurons\n",
    "    model.add(Dense (100, activation= 'relu', kernel_initializer='he_uniform'))\n",
    "    model.add(Dense(10, activation='softmax')) # initialize optimizer\n",
    "    opt = SGD(learning_rate=0.01, momentum=0.9)\n",
    "    # compile model\n",
    "    model.compile(optimizer=opt, loss= 'categorical_crossentropy', metrics =['accuracy'])\n",
    "    return model"
   ]
  },
  {
   "cell_type": "code",
   "execution_count": 21,
   "id": "2e12286a",
   "metadata": {},
   "outputs": [],
   "source": [
    "model = create_cnn_ii()"
   ]
  },
  {
   "cell_type": "code",
   "execution_count": 22,
   "id": "cfc8f3ae",
   "metadata": {},
   "outputs": [
    {
     "name": "stdout",
     "output_type": "stream",
     "text": [
      "Epoch 1/50\n",
      "1688/1688 [==============================] - 15s 9ms/step - loss: 0.2215 - accuracy: 0.9305 - val_loss: 0.0709 - val_accuracy: 0.9810\n",
      "Epoch 2/50\n",
      "1688/1688 [==============================] - 14s 9ms/step - loss: 0.0883 - accuracy: 0.9728 - val_loss: 0.0519 - val_accuracy: 0.9855\n",
      "Epoch 3/50\n",
      "1688/1688 [==============================] - 14s 9ms/step - loss: 0.0671 - accuracy: 0.9786 - val_loss: 0.0525 - val_accuracy: 0.9845\n",
      "Epoch 4/50\n",
      "1688/1688 [==============================] - 14s 9ms/step - loss: 0.0533 - accuracy: 0.9830 - val_loss: 0.0398 - val_accuracy: 0.9895\n",
      "Epoch 5/50\n",
      "1688/1688 [==============================] - 14s 8ms/step - loss: 0.0449 - accuracy: 0.9850 - val_loss: 0.0427 - val_accuracy: 0.9892\n",
      "Epoch 6/50\n",
      "1688/1688 [==============================] - 14s 9ms/step - loss: 0.0369 - accuracy: 0.9879 - val_loss: 0.0362 - val_accuracy: 0.9905\n",
      "Epoch 7/50\n",
      "1688/1688 [==============================] - 14s 8ms/step - loss: 0.0344 - accuracy: 0.9889 - val_loss: 0.0376 - val_accuracy: 0.9908\n",
      "Epoch 8/50\n",
      "1688/1688 [==============================] - 14s 8ms/step - loss: 0.0305 - accuracy: 0.9901 - val_loss: 0.0384 - val_accuracy: 0.9913\n",
      "Epoch 9/50\n",
      "1688/1688 [==============================] - 14s 8ms/step - loss: 0.0266 - accuracy: 0.9912 - val_loss: 0.0383 - val_accuracy: 0.9897\n",
      "Epoch 10/50\n",
      "1688/1688 [==============================] - 14s 9ms/step - loss: 0.0244 - accuracy: 0.9916 - val_loss: 0.0385 - val_accuracy: 0.9905\n",
      "Epoch 11/50\n",
      "1688/1688 [==============================] - 14s 8ms/step - loss: 0.0230 - accuracy: 0.9923 - val_loss: 0.0403 - val_accuracy: 0.9890\n",
      "Epoch 12/50\n",
      "1688/1688 [==============================] - 14s 9ms/step - loss: 0.0205 - accuracy: 0.9930 - val_loss: 0.0364 - val_accuracy: 0.9915\n",
      "Epoch 13/50\n",
      "1688/1688 [==============================] - 14s 9ms/step - loss: 0.0191 - accuracy: 0.9935 - val_loss: 0.0382 - val_accuracy: 0.9907\n",
      "Epoch 14/50\n",
      "1688/1688 [==============================] - 14s 9ms/step - loss: 0.0183 - accuracy: 0.9935 - val_loss: 0.0396 - val_accuracy: 0.9903\n",
      "Epoch 15/50\n",
      "1688/1688 [==============================] - 14s 8ms/step - loss: 0.0165 - accuracy: 0.9941 - val_loss: 0.0428 - val_accuracy: 0.9907\n",
      "Epoch 16/50\n",
      "1688/1688 [==============================] - 14s 8ms/step - loss: 0.0158 - accuracy: 0.9946 - val_loss: 0.0399 - val_accuracy: 0.9922\n",
      "Epoch 17/50\n",
      "1688/1688 [==============================] - 14s 9ms/step - loss: 0.0143 - accuracy: 0.9950 - val_loss: 0.0399 - val_accuracy: 0.9910\n",
      "Epoch 18/50\n",
      "1688/1688 [==============================] - 14s 9ms/step - loss: 0.0145 - accuracy: 0.9951 - val_loss: 0.0437 - val_accuracy: 0.9893\n",
      "Epoch 19/50\n",
      "1688/1688 [==============================] - 14s 8ms/step - loss: 0.0120 - accuracy: 0.9958 - val_loss: 0.0393 - val_accuracy: 0.9917\n",
      "Epoch 20/50\n",
      "1688/1688 [==============================] - 14s 8ms/step - loss: 0.0115 - accuracy: 0.9959 - val_loss: 0.0425 - val_accuracy: 0.9910\n",
      "Epoch 21/50\n",
      "1688/1688 [==============================] - 14s 9ms/step - loss: 0.0115 - accuracy: 0.9961 - val_loss: 0.0439 - val_accuracy: 0.9905\n",
      "Epoch 22/50\n",
      "1688/1688 [==============================] - 14s 9ms/step - loss: 0.0098 - accuracy: 0.9966 - val_loss: 0.0409 - val_accuracy: 0.9922\n",
      "Epoch 23/50\n",
      "1688/1688 [==============================] - 14s 9ms/step - loss: 0.0099 - accuracy: 0.9967 - val_loss: 0.0403 - val_accuracy: 0.9915\n",
      "Epoch 24/50\n",
      "1688/1688 [==============================] - 14s 8ms/step - loss: 0.0099 - accuracy: 0.9967 - val_loss: 0.0406 - val_accuracy: 0.9917\n",
      "Epoch 25/50\n",
      "1688/1688 [==============================] - 14s 9ms/step - loss: 0.0101 - accuracy: 0.9967 - val_loss: 0.0422 - val_accuracy: 0.9913\n",
      "Epoch 26/50\n",
      "1688/1688 [==============================] - 14s 9ms/step - loss: 0.0113 - accuracy: 0.9963 - val_loss: 0.0444 - val_accuracy: 0.9907\n",
      "Epoch 27/50\n",
      "1688/1688 [==============================] - 14s 9ms/step - loss: 0.0091 - accuracy: 0.9970 - val_loss: 0.0409 - val_accuracy: 0.9917\n",
      "Epoch 28/50\n",
      "1688/1688 [==============================] - 14s 9ms/step - loss: 0.0098 - accuracy: 0.9966 - val_loss: 0.0445 - val_accuracy: 0.9905\n",
      "Epoch 29/50\n",
      "1688/1688 [==============================] - 14s 9ms/step - loss: 0.0088 - accuracy: 0.9971 - val_loss: 0.0412 - val_accuracy: 0.9917\n",
      "Epoch 30/50\n",
      "1688/1688 [==============================] - 14s 9ms/step - loss: 0.0073 - accuracy: 0.9975 - val_loss: 0.0439 - val_accuracy: 0.9920\n",
      "Epoch 31/50\n",
      "1688/1688 [==============================] - 14s 9ms/step - loss: 0.0082 - accuracy: 0.9974 - val_loss: 0.0458 - val_accuracy: 0.9907\n",
      "Epoch 32/50\n",
      "1688/1688 [==============================] - 14s 9ms/step - loss: 0.0076 - accuracy: 0.9974 - val_loss: 0.0411 - val_accuracy: 0.9925\n",
      "Epoch 33/50\n",
      "1688/1688 [==============================] - 14s 9ms/step - loss: 0.0062 - accuracy: 0.9977 - val_loss: 0.0479 - val_accuracy: 0.9915\n",
      "Epoch 34/50\n",
      "1688/1688 [==============================] - 14s 9ms/step - loss: 0.0061 - accuracy: 0.9981 - val_loss: 0.0404 - val_accuracy: 0.9913\n",
      "Epoch 35/50\n",
      "1688/1688 [==============================] - 14s 9ms/step - loss: 0.0070 - accuracy: 0.9976 - val_loss: 0.0446 - val_accuracy: 0.9908\n",
      "Epoch 36/50\n",
      "1688/1688 [==============================] - 14s 8ms/step - loss: 0.0064 - accuracy: 0.9978 - val_loss: 0.0469 - val_accuracy: 0.9912\n",
      "Epoch 37/50\n",
      "1688/1688 [==============================] - 14s 9ms/step - loss: 0.0068 - accuracy: 0.9977 - val_loss: 0.0439 - val_accuracy: 0.9913\n",
      "Epoch 38/50\n",
      "1688/1688 [==============================] - 15s 9ms/step - loss: 0.0060 - accuracy: 0.9978 - val_loss: 0.0419 - val_accuracy: 0.9908\n",
      "Epoch 39/50\n",
      "1688/1688 [==============================] - 15s 9ms/step - loss: 0.0060 - accuracy: 0.9980 - val_loss: 0.0441 - val_accuracy: 0.9915\n",
      "Epoch 40/50\n",
      "1688/1688 [==============================] - 14s 9ms/step - loss: 0.0058 - accuracy: 0.9977 - val_loss: 0.0451 - val_accuracy: 0.9908\n",
      "Epoch 41/50\n",
      "1688/1688 [==============================] - 14s 9ms/step - loss: 0.0058 - accuracy: 0.9980 - val_loss: 0.0476 - val_accuracy: 0.9918\n",
      "Epoch 42/50\n",
      "1688/1688 [==============================] - 14s 9ms/step - loss: 0.0069 - accuracy: 0.9978 - val_loss: 0.0447 - val_accuracy: 0.9920\n",
      "Epoch 43/50\n",
      "1688/1688 [==============================] - 14s 9ms/step - loss: 0.0061 - accuracy: 0.9979 - val_loss: 0.0443 - val_accuracy: 0.9917\n",
      "Epoch 44/50\n",
      "1688/1688 [==============================] - 14s 9ms/step - loss: 0.0068 - accuracy: 0.9977 - val_loss: 0.0518 - val_accuracy: 0.9898\n",
      "Epoch 45/50\n",
      "1688/1688 [==============================] - 14s 9ms/step - loss: 0.0052 - accuracy: 0.9981 - val_loss: 0.0489 - val_accuracy: 0.9908\n",
      "Epoch 46/50\n",
      "1688/1688 [==============================] - 14s 9ms/step - loss: 0.0054 - accuracy: 0.9980 - val_loss: 0.0482 - val_accuracy: 0.9910\n",
      "Epoch 47/50\n",
      "1688/1688 [==============================] - 15s 9ms/step - loss: 0.0052 - accuracy: 0.9982 - val_loss: 0.0443 - val_accuracy: 0.9918\n",
      "Epoch 48/50\n",
      "1688/1688 [==============================] - 14s 9ms/step - loss: 0.0048 - accuracy: 0.9983 - val_loss: 0.0515 - val_accuracy: 0.9912\n",
      "Epoch 49/50\n",
      "1688/1688 [==============================] - 15s 9ms/step - loss: 0.0046 - accuracy: 0.9984 - val_loss: 0.0518 - val_accuracy: 0.9908\n",
      "Epoch 50/50\n",
      "1688/1688 [==============================] - 15s 9ms/step - loss: 0.0057 - accuracy: 0.9980 - val_loss: 0.0534 - val_accuracy: 0.9910\n"
     ]
    }
   ],
   "source": [
    "epoch_history = model.fit(train_X, train_Y, batch_size=32, epochs=50, validation_split =0.1)"
   ]
  },
  {
   "cell_type": "code",
   "execution_count": 23,
   "id": "41333614",
   "metadata": {},
   "outputs": [
    {
     "data": {
      "text/plain": [
       "[0.03737785667181015, 0.9908000230789185]"
      ]
     },
     "execution_count": 23,
     "metadata": {},
     "output_type": "execute_result"
    }
   ],
   "source": [
    "model.evaluate(test_X, test_Y, verbose=0)"
   ]
  },
  {
   "cell_type": "code",
   "execution_count": 24,
   "id": "a2c35b20",
   "metadata": {},
   "outputs": [],
   "source": [
    "acc, val_acc = accuracy_ten(epoch_history)"
   ]
  },
  {
   "cell_type": "code",
   "execution_count": 25,
   "id": "b0f58321",
   "metadata": {},
   "outputs": [
    {
     "data": {
      "text/plain": [
       "Text(0, 0.5, 'Training Accuracy')"
      ]
     },
     "execution_count": 25,
     "metadata": {},
     "output_type": "execute_result"
    },
    {
     "data": {
      "image/png": "[encoded data removed]",
      "text/plain": [
       "<Figure size 432x288 with 1 Axes>"
      ]
     },
     "metadata": {
      "needs_background": "light"
     },
     "output_type": "display_data"
    }
   ],
   "source": [
    "plt.plot([10,20,30,40,50], acc)\n",
    "plt.xlabel('Epochs')\n",
    "plt.ylabel('Training Accuracy')"
   ]
  },
  {
   "cell_type": "code",
   "execution_count": 26,
   "id": "99e3ede1",
   "metadata": {},
   "outputs": [
    {
     "data": {
      "text/plain": [
       "Text(0, 0.5, 'Validation Accuracy')"
      ]
     },
     "execution_count": 26,
     "metadata": {},
     "output_type": "execute_result"
    },
    {
     "data": {
      "image/png": "[encoded data removed]",
      "text/plain": [
       "<Figure size 432x288 with 1 Axes>"
      ]
     },
     "metadata": {
      "needs_background": "light"
     },
     "output_type": "display_data"
    }
   ],
   "source": [
    "plt.plot([10,20,30,40,50], val_acc)\n",
    "plt.xlabel('Epochs')\n",
    "plt.ylabel('Validation Accuracy')"
   ]
  },
  {
   "cell_type": "markdown",
   "id": "041bf66b",
   "metadata": {},
   "source": [
    "iii. Addanotherconvolutionlayerandmaxpoolinglayertothecreate_cnnfunctiondefined above (immediately following the existing maxpooling layer). For the additional convo- lution layer, use 64 output filters. Train this for 10 epochs and report the test accuracy."
   ]
  },
  {
   "cell_type": "code",
   "execution_count": 27,
   "id": "bfc4f0ec",
   "metadata": {},
   "outputs": [],
   "source": [
    "def create_cnn_iii():\n",
    "    # define using Sequential\n",
    "    model = Sequential()\n",
    "    # Convolution layer\n",
    "    model.add(Conv2D(32, (3, 3), activation= 'relu', kernel_initializer='he_uniform', input_shape=(28, 28, 1)))\n",
    "    # Maxpooling layer\n",
    "    model.add(MaxPooling2D((2, 2)))\n",
    "    # Convolution layer 2\n",
    "    model.add(Conv2D(64, (3, 3), activation= 'relu', kernel_initializer='he_uniform', input_shape=(28, 28, 1)))\n",
    "    # Maxpooling layer\n",
    "    model.add(MaxPooling2D((2, 2)))\n",
    "    # Flatten output\n",
    "    model.add(Flatten ())\n",
    "    # Dropout layer\n",
    "    model.add(Dropout(0.5))\n",
    "    # Dense layer of 100 neurons\n",
    "    model.add(Dense (100, activation= 'relu', kernel_initializer='he_uniform'))\n",
    "    model.add(Dense(10, activation='softmax')) # initialize optimizer\n",
    "    opt = SGD(learning_rate=0.01, momentum=0.9)\n",
    "    # compile model\n",
    "    model.compile(optimizer=opt, loss= 'categorical_crossentropy', metrics =['accuracy'])\n",
    "    return model"
   ]
  },
  {
   "cell_type": "code",
   "execution_count": 28,
   "id": "4705046e",
   "metadata": {},
   "outputs": [],
   "source": [
    "model = create_cnn_iii()"
   ]
  },
  {
   "cell_type": "code",
   "execution_count": 29,
   "id": "5f7ef17f",
   "metadata": {},
   "outputs": [
    {
     "name": "stdout",
     "output_type": "stream",
     "text": [
      "Epoch 1/10\n",
      "1688/1688 [==============================] - 19s 11ms/step - loss: 0.1992 - accuracy: 0.9370 - val_loss: 0.0501 - val_accuracy: 0.9855\n",
      "Epoch 2/10\n",
      "1688/1688 [==============================] - 19s 11ms/step - loss: 0.0805 - accuracy: 0.9752 - val_loss: 0.0389 - val_accuracy: 0.9892\n",
      "Epoch 3/10\n",
      "1688/1688 [==============================] - 19s 11ms/step - loss: 0.0625 - accuracy: 0.9797 - val_loss: 0.0314 - val_accuracy: 0.9905\n",
      "Epoch 4/10\n",
      "1688/1688 [==============================] - 19s 11ms/step - loss: 0.0527 - accuracy: 0.9828 - val_loss: 0.0329 - val_accuracy: 0.9913\n",
      "Epoch 5/10\n",
      "1688/1688 [==============================] - 19s 11ms/step - loss: 0.0453 - accuracy: 0.9854 - val_loss: 0.0318 - val_accuracy: 0.9900\n",
      "Epoch 6/10\n",
      "1688/1688 [==============================] - 19s 11ms/step - loss: 0.0410 - accuracy: 0.9874 - val_loss: 0.0334 - val_accuracy: 0.9905\n",
      "Epoch 7/10\n",
      "1688/1688 [==============================] - 19s 11ms/step - loss: 0.0383 - accuracy: 0.9881 - val_loss: 0.0327 - val_accuracy: 0.9912\n",
      "Epoch 8/10\n",
      "1688/1688 [==============================] - 19s 11ms/step - loss: 0.0331 - accuracy: 0.9891 - val_loss: 0.0273 - val_accuracy: 0.9928\n",
      "Epoch 9/10\n",
      "1688/1688 [==============================] - 19s 11ms/step - loss: 0.0309 - accuracy: 0.9899 - val_loss: 0.0261 - val_accuracy: 0.9932\n",
      "Epoch 10/10\n",
      "1688/1688 [==============================] - 19s 11ms/step - loss: 0.0286 - accuracy: 0.9905 - val_loss: 0.0294 - val_accuracy: 0.9932\n"
     ]
    },
    {
     "data": {
      "text/plain": [
       "<keras.callbacks.History at 0x7fc9406a81c0>"
      ]
     },
     "execution_count": 29,
     "metadata": {},
     "output_type": "execute_result"
    }
   ],
   "source": [
    "model.fit(train_X, train_Y, batch_size=32, epochs=10, validation_split =0.1)"
   ]
  },
  {
   "cell_type": "code",
   "execution_count": 30,
   "id": "aa4f1e76",
   "metadata": {},
   "outputs": [
    {
     "data": {
      "text/plain": [
       "[0.020361654460430145, 0.9922999739646912]"
      ]
     },
     "execution_count": 30,
     "metadata": {},
     "output_type": "execute_result"
    }
   ],
   "source": [
    "model.evaluate(test_X, test_Y, verbose=0)"
   ]
  },
  {
   "cell_type": "markdown",
   "id": "8708a1a9",
   "metadata": {},
   "source": [
    "iv. We used a learning rate of 0.01 in the given create_cnn function. Using learning rates of 0.001 and 0.1 respectively, train the model and report accuracy on test data-set. To be sure, we are working with 2 convolution layers and training for 10 epochs while doing this experiment"
   ]
  },
  {
   "cell_type": "code",
   "execution_count": 31,
   "id": "fc9a9d12",
   "metadata": {},
   "outputs": [],
   "source": [
    "def create_cnn_iii(learning_rate):\n",
    "    # define using Sequential\n",
    "    model = Sequential()\n",
    "    # Convolution layer\n",
    "    model.add(Conv2D(32, (3, 3), activation= 'relu', kernel_initializer='he_uniform', input_shape=(28, 28, 1)))\n",
    "    # Maxpooling layer\n",
    "    model.add(MaxPooling2D((2, 2)))\n",
    "    # Convolution layer 2\n",
    "    model.add(Conv2D(64, (3, 3), activation= 'relu', kernel_initializer='he_uniform', input_shape=(28, 28, 1)))\n",
    "    # Maxpooling layer\n",
    "    model.add(MaxPooling2D((2, 2)))\n",
    "    # Flatten output\n",
    "    model.add(Flatten ())\n",
    "    # Dropout layer\n",
    "    model.add(Dropout(0.5))\n",
    "    # Dense layer of 100 neurons\n",
    "    model.add(Dense (100, activation= 'relu', kernel_initializer='he_uniform'))\n",
    "    model.add(Dense(10, activation='softmax')) # initialize optimizer\n",
    "    opt = SGD(learning_rate=learning_rate, momentum=0.9)\n",
    "    # compile model\n",
    "    model.compile(optimizer=opt, loss= 'categorical_crossentropy', metrics =['accuracy'])\n",
    "    return model"
   ]
  },
  {
   "cell_type": "code",
   "execution_count": 32,
   "id": "042fe912",
   "metadata": {},
   "outputs": [],
   "source": [
    "model = create_cnn_iii(learning_rate= 0.01)"
   ]
  },
  {
   "cell_type": "code",
   "execution_count": 33,
   "id": "595b2029",
   "metadata": {},
   "outputs": [
    {
     "name": "stdout",
     "output_type": "stream",
     "text": [
      "Epoch 1/10\n",
      "1688/1688 [==============================] - 19s 11ms/step - loss: 0.2142 - accuracy: 0.9332 - val_loss: 0.0649 - val_accuracy: 0.9793\n",
      "Epoch 2/10\n",
      "1688/1688 [==============================] - 19s 11ms/step - loss: 0.0855 - accuracy: 0.9729 - val_loss: 0.0396 - val_accuracy: 0.9875\n",
      "Epoch 3/10\n",
      "1688/1688 [==============================] - 19s 11ms/step - loss: 0.0657 - accuracy: 0.9797 - val_loss: 0.0368 - val_accuracy: 0.9898\n",
      "Epoch 4/10\n",
      "1688/1688 [==============================] - 19s 11ms/step - loss: 0.0542 - accuracy: 0.9825 - val_loss: 0.0328 - val_accuracy: 0.9912\n",
      "Epoch 5/10\n",
      "1688/1688 [==============================] - 19s 11ms/step - loss: 0.0471 - accuracy: 0.9848 - val_loss: 0.0319 - val_accuracy: 0.9918\n",
      "Epoch 6/10\n",
      "1688/1688 [==============================] - 19s 11ms/step - loss: 0.0431 - accuracy: 0.9856 - val_loss: 0.0300 - val_accuracy: 0.9918\n",
      "Epoch 7/10\n",
      "1688/1688 [==============================] - 19s 11ms/step - loss: 0.0389 - accuracy: 0.9870 - val_loss: 0.0297 - val_accuracy: 0.9923\n",
      "Epoch 8/10\n",
      "1688/1688 [==============================] - 19s 11ms/step - loss: 0.0354 - accuracy: 0.9885 - val_loss: 0.0291 - val_accuracy: 0.9917\n",
      "Epoch 9/10\n",
      "1688/1688 [==============================] - 19s 11ms/step - loss: 0.0343 - accuracy: 0.9887 - val_loss: 0.0300 - val_accuracy: 0.9917\n",
      "Epoch 10/10\n",
      "1688/1688 [==============================] - 19s 11ms/step - loss: 0.0296 - accuracy: 0.9902 - val_loss: 0.0270 - val_accuracy: 0.9925\n"
     ]
    },
    {
     "data": {
      "text/plain": [
       "<keras.callbacks.History at 0x7fc94174c3d0>"
      ]
     },
     "execution_count": 33,
     "metadata": {},
     "output_type": "execute_result"
    }
   ],
   "source": [
    "model.fit(train_X, train_Y, batch_size=32, epochs=10, validation_split =0.1)"
   ]
  },
  {
   "cell_type": "code",
   "execution_count": 34,
   "id": "9e14ed00",
   "metadata": {},
   "outputs": [
    {
     "data": {
      "text/plain": [
       "[0.020302291959524155, 0.993399977684021]"
      ]
     },
     "execution_count": 34,
     "metadata": {},
     "output_type": "execute_result"
    }
   ],
   "source": [
    "model.evaluate(test_X, test_Y, verbose=0)"
   ]
  },
  {
   "cell_type": "code",
   "execution_count": 35,
   "id": "9baea877",
   "metadata": {},
   "outputs": [],
   "source": [
    "model = create_cnn_iii(learning_rate= 0.001)"
   ]
  },
  {
   "cell_type": "code",
   "execution_count": 36,
   "id": "76509783",
   "metadata": {},
   "outputs": [
    {
     "name": "stdout",
     "output_type": "stream",
     "text": [
      "Epoch 1/10\n",
      "1688/1688 [==============================] - 19s 11ms/step - loss: 0.4423 - accuracy: 0.8607 - val_loss: 0.1123 - val_accuracy: 0.9693\n",
      "Epoch 2/10\n",
      "1688/1688 [==============================] - 19s 11ms/step - loss: 0.1644 - accuracy: 0.9502 - val_loss: 0.0731 - val_accuracy: 0.9825\n",
      "Epoch 3/10\n",
      "1688/1688 [==============================] - 18s 11ms/step - loss: 0.1229 - accuracy: 0.9617 - val_loss: 0.0650 - val_accuracy: 0.9815\n",
      "Epoch 4/10\n",
      "1688/1688 [==============================] - 18s 11ms/step - loss: 0.1026 - accuracy: 0.9679 - val_loss: 0.0563 - val_accuracy: 0.9852\n",
      "Epoch 5/10\n",
      "1688/1688 [==============================] - 18s 11ms/step - loss: 0.0916 - accuracy: 0.9723 - val_loss: 0.0510 - val_accuracy: 0.9852\n",
      "Epoch 6/10\n",
      "1688/1688 [==============================] - 18s 10ms/step - loss: 0.0831 - accuracy: 0.9741 - val_loss: 0.0477 - val_accuracy: 0.9865\n",
      "Epoch 7/10\n",
      "1688/1688 [==============================] - 18s 10ms/step - loss: 0.0754 - accuracy: 0.9764 - val_loss: 0.0444 - val_accuracy: 0.9887\n",
      "Epoch 8/10\n",
      "1688/1688 [==============================] - 18s 10ms/step - loss: 0.0693 - accuracy: 0.9783 - val_loss: 0.0421 - val_accuracy: 0.9887\n",
      "Epoch 9/10\n",
      "1688/1688 [==============================] - 18s 11ms/step - loss: 0.0661 - accuracy: 0.9790 - val_loss: 0.0416 - val_accuracy: 0.9897\n",
      "Epoch 10/10\n",
      "1688/1688 [==============================] - 18s 11ms/step - loss: 0.0612 - accuracy: 0.9810 - val_loss: 0.0392 - val_accuracy: 0.9895\n"
     ]
    },
    {
     "data": {
      "text/plain": [
       "<keras.callbacks.History at 0x7fc9407ce220>"
      ]
     },
     "execution_count": 36,
     "metadata": {},
     "output_type": "execute_result"
    }
   ],
   "source": [
    "model.fit(train_X, train_Y, batch_size=32, epochs=10, validation_split =0.1)"
   ]
  },
  {
   "cell_type": "code",
   "execution_count": 37,
   "id": "b0290db9",
   "metadata": {},
   "outputs": [
    {
     "data": {
      "text/plain": [
       "[0.03544506058096886, 0.9876999855041504]"
      ]
     },
     "execution_count": 37,
     "metadata": {},
     "output_type": "execute_result"
    }
   ],
   "source": [
    "model.evaluate(test_X, test_Y, verbose=0)"
   ]
  },
  {
   "cell_type": "code",
   "execution_count": 38,
   "id": "2e2957d0",
   "metadata": {},
   "outputs": [],
   "source": [
    "model = create_cnn_iii(learning_rate= 0.1)"
   ]
  },
  {
   "cell_type": "code",
   "execution_count": 39,
   "id": "077f339a",
   "metadata": {},
   "outputs": [
    {
     "name": "stdout",
     "output_type": "stream",
     "text": [
      "Epoch 1/10\n",
      "1688/1688 [==============================] - 18s 11ms/step - loss: 1.2019 - accuracy: 0.6292 - val_loss: 2.3034 - val_accuracy: 0.1050\n",
      "Epoch 2/10\n",
      "1688/1688 [==============================] - 18s 11ms/step - loss: 2.3082 - accuracy: 0.1067 - val_loss: 2.3072 - val_accuracy: 0.0978\n",
      "Epoch 3/10\n",
      "1688/1688 [==============================] - 18s 11ms/step - loss: 2.3083 - accuracy: 0.1037 - val_loss: 2.3079 - val_accuracy: 0.0995\n",
      "Epoch 4/10\n",
      "1688/1688 [==============================] - 18s 11ms/step - loss: 2.3089 - accuracy: 0.1047 - val_loss: 2.3150 - val_accuracy: 0.0978\n",
      "Epoch 5/10\n",
      "1688/1688 [==============================] - 18s 11ms/step - loss: 2.3081 - accuracy: 0.1054 - val_loss: 2.3092 - val_accuracy: 0.0952\n",
      "Epoch 6/10\n",
      "1688/1688 [==============================] - 19s 11ms/step - loss: 2.3081 - accuracy: 0.1029 - val_loss: 2.3085 - val_accuracy: 0.0995\n",
      "Epoch 7/10\n",
      "1688/1688 [==============================] - 20s 12ms/step - loss: 2.3091 - accuracy: 0.1044 - val_loss: 2.3085 - val_accuracy: 0.0952\n",
      "Epoch 8/10\n",
      "1688/1688 [==============================] - 19s 11ms/step - loss: 2.3091 - accuracy: 0.1036 - val_loss: 2.3059 - val_accuracy: 0.1050\n",
      "Epoch 9/10\n",
      "1688/1688 [==============================] - 18s 11ms/step - loss: 2.3085 - accuracy: 0.1043 - val_loss: 2.3069 - val_accuracy: 0.1050\n",
      "Epoch 10/10\n",
      "1688/1688 [==============================] - 18s 11ms/step - loss: 2.3084 - accuracy: 0.1042 - val_loss: 2.3089 - val_accuracy: 0.0995\n"
     ]
    },
    {
     "data": {
      "text/plain": [
       "<keras.callbacks.History at 0x7fc94292e790>"
      ]
     },
     "execution_count": 39,
     "metadata": {},
     "output_type": "execute_result"
    }
   ],
   "source": [
    "model.fit(train_X, train_Y, batch_size=32, epochs=10, validation_split =0.1)"
   ]
  },
  {
   "cell_type": "code",
   "execution_count": 40,
   "id": "7482aed7",
   "metadata": {},
   "outputs": [
    {
     "data": {
      "text/plain": [
       "[2.3089559078216553, 0.09740000218153]"
      ]
     },
     "execution_count": 40,
     "metadata": {},
     "output_type": "execute_result"
    }
   ],
   "source": [
    "model.evaluate(test_X, test_Y, verbose=0)"
   ]
  },
  {
   "cell_type": "markdown",
   "id": "ea809bc5",
   "metadata": {},
   "source": [
    "### f) Analysis"
   ]
  },
  {
   "cell_type": "markdown",
   "id": "299272fe",
   "metadata": {},
   "source": [
    "#### i. Explain how the trends in validation and train accuracy change after using the dropout layer in the experiments."
   ]
  },
  {
   "cell_type": "markdown",
   "id": "9f708ebc",
   "metadata": {},
   "source": [
    "After adding the dropout layer, the accuracy increased slightly, it went from 0.9883999824523926 to 0.9894000291824341. \n",
    "Dropout is a regularization technique that drops randomly selected neurons to reduce over-fitting. It is working as expected since the model accuracy increased."
   ]
  },
  {
   "cell_type": "markdown",
   "id": "24f79c29",
   "metadata": {},
   "source": [
    "#### ii. How does the performance of CNN with two convolution layers differ as compared to CNN with a single convolution layer in your experiments?"
   ]
  },
  {
   "cell_type": "markdown",
   "id": "6301565a",
   "metadata": {},
   "source": [
    "When adding the second convolition layer it increased even more, reaching an accuracy of 0.9915000200271606\n",
    "This is a significant improvement, it is due to the fact that more layers can abstract other features from the training dataset. However it comes with more computational cost due to the operations performed in that layer."
   ]
  },
  {
   "cell_type": "markdown",
   "id": "e1ee3095",
   "metadata": {},
   "source": [
    "#### iii. How did changing learning rates change your experimental results in part (iv)?"
   ]
  },
  {
   "cell_type": "markdown",
   "id": "40217d04",
   "metadata": {},
   "source": [
    "With 0.01 learning rate we have an accuracy of 0.9932000041007996, when using 0.001, it decreases to 0.9891999959945679 and when using 0.1 it decreases to 0.0982000008225441\n",
    "\n",
    "Learning rate is a really important hyperparameter. We can observe that for this application, the optimal learning rate is around 0.01. If we make it smaller (0.001), the accuracy decreases, and if we make it larger the training process becomes unstable (0.1)"
   ]
  }
 ],
 "metadata": {
  "kernelspec": {
   "display_name": "Python 3",
   "language": "python",
   "name": "python3"
  },
  "language_info": {
   "codemirror_mode": {
    "name": "ipython",
    "version": 3
   },
   "file_extension": ".py",
   "mimetype": "text/x-python",
   "name": "python",
   "nbconvert_exporter": "python",
   "pygments_lexer": "ipython3",
   "version": "3.8.8"
  }
 },
 "nbformat": 4,
 "nbformat_minor": 5
}
