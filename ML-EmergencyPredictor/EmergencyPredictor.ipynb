{
 "cells": [
  {
   "cell_type": "code",
   "execution_count": 1,
   "metadata": {},
   "outputs": [],
   "source": [
    "import numpy as np\n",
    "import pandas as pd\n",
    "import matplotlib.pyplot as plt"
   ]
  },
  {
   "cell_type": "markdown",
   "metadata": {},
   "source": [
    "## Emergency alert with tweets"
   ]
  },
  {
   "cell_type": "markdown",
   "metadata": {},
   "source": [
    "### Dataset"
   ]
  },
  {
   "cell_type": "code",
   "execution_count": 2,
   "metadata": {},
   "outputs": [
    {
     "data": {
      "text/html": [
       "<div>\n",
       "<style scoped>\n",
       "    .dataframe tbody tr th:only-of-type {\n",
       "        vertical-align: middle;\n",
       "    }\n",
       "\n",
       "    .dataframe tbody tr th {\n",
       "        vertical-align: top;\n",
       "    }\n",
       "\n",
       "    .dataframe thead th {\n",
       "        text-align: right;\n",
       "    }\n",
       "</style>\n",
       "<table border=\"1\" class=\"dataframe\">\n",
       "  <thead>\n",
       "    <tr style=\"text-align: right;\">\n",
       "      <th></th>\n",
       "      <th>id</th>\n",
       "      <th>keyword</th>\n",
       "      <th>location</th>\n",
       "      <th>text</th>\n",
       "      <th>target</th>\n",
       "    </tr>\n",
       "  </thead>\n",
       "  <tbody>\n",
       "    <tr>\n",
       "      <th>0</th>\n",
       "      <td>1</td>\n",
       "      <td>NaN</td>\n",
       "      <td>NaN</td>\n",
       "      <td>Our Deeds are the Reason of this #earthquake M...</td>\n",
       "      <td>1</td>\n",
       "    </tr>\n",
       "    <tr>\n",
       "      <th>1</th>\n",
       "      <td>4</td>\n",
       "      <td>NaN</td>\n",
       "      <td>NaN</td>\n",
       "      <td>Forest fire near La Ronge Sask. Canada</td>\n",
       "      <td>1</td>\n",
       "    </tr>\n",
       "    <tr>\n",
       "      <th>2</th>\n",
       "      <td>5</td>\n",
       "      <td>NaN</td>\n",
       "      <td>NaN</td>\n",
       "      <td>All residents asked to 'shelter in place' are ...</td>\n",
       "      <td>1</td>\n",
       "    </tr>\n",
       "    <tr>\n",
       "      <th>3</th>\n",
       "      <td>6</td>\n",
       "      <td>NaN</td>\n",
       "      <td>NaN</td>\n",
       "      <td>13,000 people receive #wildfires evacuation or...</td>\n",
       "      <td>1</td>\n",
       "    </tr>\n",
       "    <tr>\n",
       "      <th>4</th>\n",
       "      <td>7</td>\n",
       "      <td>NaN</td>\n",
       "      <td>NaN</td>\n",
       "      <td>Just got sent this photo from Ruby #Alaska as ...</td>\n",
       "      <td>1</td>\n",
       "    </tr>\n",
       "  </tbody>\n",
       "</table>\n",
       "</div>"
      ],
      "text/plain": [
       "   id keyword location                                               text  \\\n",
       "0   1     NaN      NaN  Our Deeds are the Reason of this #earthquake M...   \n",
       "1   4     NaN      NaN             Forest fire near La Ronge Sask. Canada   \n",
       "2   5     NaN      NaN  All residents asked to 'shelter in place' are ...   \n",
       "3   6     NaN      NaN  13,000 people receive #wildfires evacuation or...   \n",
       "4   7     NaN      NaN  Just got sent this photo from Ruby #Alaska as ...   \n",
       "\n",
       "   target  \n",
       "0       1  \n",
       "1       1  \n",
       "2       1  \n",
       "3       1  \n",
       "4       1  "
      ]
     },
     "execution_count": 2,
     "metadata": {},
     "output_type": "execute_result"
    }
   ],
   "source": [
    "#load data from csv\n",
    "test_dataset = pd.read_csv('test.csv')\n",
    "train_dataset = pd.read_csv('train.csv')\n",
    "train_dataset.head()"
   ]
  },
  {
   "cell_type": "code",
   "execution_count": 3,
   "metadata": {},
   "outputs": [
    {
     "name": "stdout",
     "output_type": "stream",
     "text": [
      "Training data points: 7613\n",
      "Test data points: 3263\n"
     ]
    }
   ],
   "source": [
    "print('Training data points: %i' % len(train_dataset))\n",
    "print('Test data points: %i' % len(test_dataset))"
   ]
  },
  {
   "cell_type": "markdown",
   "metadata": {},
   "source": [
    "#### Emergency vs non-emergency proportion"
   ]
  },
  {
   "cell_type": "code",
   "execution_count": 4,
   "metadata": {},
   "outputs": [],
   "source": [
    "disaster = train_dataset.loc[train_dataset['target'] == 1]\n",
    "non_disaster = train_dataset.loc[train_dataset['target'] == 0]\n",
    "disaster_percent = len(disaster)/len(train_dataset) * 100\n",
    "non_disaster_percent = len(non_disaster)/len(train_dataset) * 100"
   ]
  },
  {
   "cell_type": "code",
   "execution_count": 5,
   "metadata": {},
   "outputs": [
    {
     "data": {
      "image/png": "[encoded data removed]",
      "text/plain": [
       "<Figure size 360x216 with 1 Axes>"
      ]
     },
     "metadata": {
      "needs_background": "light"
     },
     "output_type": "display_data"
    },
    {
     "name": "stdout",
     "output_type": "stream",
     "text": [
      "Disaster 42.97%\n",
      "Non disaster 57.03%\n"
     ]
    }
   ],
   "source": [
    "fig = plt.figure(figsize = (5, 3))\n",
    "plt.bar(['Disaster', 'Non Disaster'], [len(disaster), len(non_disaster)], color ='#1DA1F2', width = 0.9)\n",
    "plt.title(\"Training Dataset disaster tweet ratio\")\n",
    "plt.show()\n",
    "print('Disaster %.2f%%' % disaster_percent)\n",
    "print('Non disaster %.2f%%' % non_disaster_percent)"
   ]
  },
  {
   "cell_type": "markdown",
   "metadata": {},
   "source": [
    "### Split the training dataset"
   ]
  },
  {
   "cell_type": "code",
   "execution_count": 6,
   "metadata": {},
   "outputs": [],
   "source": [
    "# Create train dataframe from 70% of train dataset\n",
    "disaster_train = train_dataset.sample(frac = 0.7)\n",
    "\n",
    "# Create development dataframe from 30% of train dataset\n",
    "disaster_develop = train_dataset.drop(disaster_train.index)"
   ]
  },
  {
   "cell_type": "markdown",
   "metadata": {},
   "source": [
    "#### Extract data and targets"
   ]
  },
  {
   "cell_type": "code",
   "execution_count": 7,
   "metadata": {},
   "outputs": [
    {
     "data": {
      "text/html": [
       "<div>\n",
       "<style scoped>\n",
       "    .dataframe tbody tr th:only-of-type {\n",
       "        vertical-align: middle;\n",
       "    }\n",
       "\n",
       "    .dataframe tbody tr th {\n",
       "        vertical-align: top;\n",
       "    }\n",
       "\n",
       "    .dataframe thead th {\n",
       "        text-align: right;\n",
       "    }\n",
       "</style>\n",
       "<table border=\"1\" class=\"dataframe\">\n",
       "  <thead>\n",
       "    <tr style=\"text-align: right;\">\n",
       "      <th></th>\n",
       "      <th>text</th>\n",
       "    </tr>\n",
       "  </thead>\n",
       "  <tbody>\n",
       "    <tr>\n",
       "      <th>2190</th>\n",
       "      <td>#KAMINDOZ #reuters Debris confirmed from MH370...</td>\n",
       "    </tr>\n",
       "    <tr>\n",
       "      <th>6527</th>\n",
       "      <td>#Autoinsurance industry clueless on driverless...</td>\n",
       "    </tr>\n",
       "    <tr>\n",
       "      <th>3273</th>\n",
       "      <td>@carneross indeed and a remarkably puny idea t...</td>\n",
       "    </tr>\n",
       "    <tr>\n",
       "      <th>3851</th>\n",
       "      <td>My Gang Walking Round With Them Brown Flames. ...</td>\n",
       "    </tr>\n",
       "    <tr>\n",
       "      <th>3527</th>\n",
       "      <td>Aug. 06 2015 Radio Show articles ÛÒ  \\n1] Eye...</td>\n",
       "    </tr>\n",
       "  </tbody>\n",
       "</table>\n",
       "</div>"
      ],
      "text/plain": [
       "                                                   text\n",
       "2190  #KAMINDOZ #reuters Debris confirmed from MH370...\n",
       "6527  #Autoinsurance industry clueless on driverless...\n",
       "3273  @carneross indeed and a remarkably puny idea t...\n",
       "3851  My Gang Walking Round With Them Brown Flames. ...\n",
       "3527  Aug. 06 2015 Radio Show articles ÛÒ  \\n1] Eye..."
      ]
     },
     "execution_count": 7,
     "metadata": {},
     "output_type": "execute_result"
    }
   ],
   "source": [
    "# get target data vector for train dataset\n",
    "disaster_train_target = disaster_train.iloc[:,-1:]\n",
    "\n",
    "# get text vectors for train dataset\n",
    "disaster_train_data =  disaster_train.loc[:, [\"text\"]]\n",
    "\n",
    "# get target data vector for development dataset\n",
    "disaster_develop_target = disaster_develop.iloc[:,-1:]\n",
    "\n",
    "#  get text vectors for develop dataset\n",
    "disaster_develop_data = disaster_develop.loc[:, [\"text\"]]\n",
    "\n",
    "disaster_train_data.head()"
   ]
  },
  {
   "cell_type": "markdown",
   "metadata": {},
   "source": [
    "### Preprocessing"
   ]
  },
  {
   "cell_type": "code",
   "execution_count": 8,
   "metadata": {},
   "outputs": [],
   "source": [
    "import nltk\n",
    "import re\n",
    "import unicodedata\n",
    "import string\n",
    "from nltk.tokenize import word_tokenize\n",
    "from nltk.stem import WordNetLemmatizer\n",
    "from nltk.corpus import stopwords"
   ]
  },
  {
   "cell_type": "markdown",
   "metadata": {},
   "source": [
    "#### Convert to lowercase"
   ]
  },
  {
   "cell_type": "code",
   "execution_count": 9,
   "metadata": {},
   "outputs": [],
   "source": [
    "def to_lowercase(text):\n",
    "    return text.lower()"
   ]
  },
  {
   "cell_type": "markdown",
   "metadata": {},
   "source": [
    "#### Strip punctuation, accents, special characters and urls"
   ]
  },
  {
   "cell_type": "code",
   "execution_count": 10,
   "metadata": {},
   "outputs": [],
   "source": [
    "def strip_urls(text):\n",
    "    return re.sub(r\"http\\S+\", \"\", text)"
   ]
  },
  {
   "cell_type": "code",
   "execution_count": 11,
   "metadata": {},
   "outputs": [],
   "source": [
    "def strip_accents(text):\n",
    "    return unicodedata.normalize('NFKD', text).encode('ascii', 'ignore').decode('utf-8', 'ignore')"
   ]
  },
  {
   "cell_type": "code",
   "execution_count": 12,
   "metadata": {},
   "outputs": [],
   "source": [
    "def strip_punctuation(text):\n",
    "    return text.translate(str.maketrans('', '', string.punctuation))"
   ]
  },
  {
   "cell_type": "markdown",
   "metadata": {},
   "source": [
    "#### Strip numbers"
   ]
  },
  {
   "cell_type": "code",
   "execution_count": 13,
   "metadata": {},
   "outputs": [],
   "source": [
    "def strip_numbers(text):\n",
    "    regex = r'[^a-zA-z.,!?/:;\\\"\\'\\s]' \n",
    "    return re.sub(regex, '', text)"
   ]
  },
  {
   "cell_type": "markdown",
   "metadata": {},
   "source": [
    "#### Tokenize all the words"
   ]
  },
  {
   "cell_type": "code",
   "execution_count": 14,
   "metadata": {},
   "outputs": [],
   "source": [
    "def tokenize_text(text):    \n",
    "    return word_tokenize(text)"
   ]
  },
  {
   "cell_type": "markdown",
   "metadata": {},
   "source": [
    "#### Strip the stop words (e.g., “the”, “and”, “or”)"
   ]
  },
  {
   "cell_type": "code",
   "execution_count": 15,
   "metadata": {},
   "outputs": [],
   "source": [
    "def strip_stop_words(words):\n",
    "    stop_words = set(stopwords.words('english'))\n",
    "    return [w for w in words if w not in stop_words]"
   ]
  },
  {
   "cell_type": "markdown",
   "metadata": {},
   "source": [
    "#### Lemmatize all the words"
   ]
  },
  {
   "cell_type": "code",
   "execution_count": 16,
   "metadata": {},
   "outputs": [],
   "source": [
    "def lemmatize_text(words):\n",
    "    lemmatizer = WordNetLemmatizer()\n",
    "    return \" \".join([lemmatizer.lemmatize(w,'v') for w in words])"
   ]
  },
  {
   "cell_type": "markdown",
   "metadata": {},
   "source": [
    "#### Preprocess"
   ]
  },
  {
   "cell_type": "code",
   "execution_count": 17,
   "metadata": {},
   "outputs": [],
   "source": [
    "def preprocess(data):\n",
    "    result = data.apply(to_lowercase)\n",
    "    result = result.apply(strip_urls)\n",
    "    result = result.apply(strip_accents)\n",
    "    result = result.apply(strip_punctuation)\n",
    "    result = result.apply(strip_numbers)\n",
    "    result = result.apply(tokenize_text)\n",
    "    result = result.apply(strip_stop_words)\n",
    "    result = result.apply(lemmatize_text)\n",
    "    return result"
   ]
  },
  {
   "cell_type": "code",
   "execution_count": 18,
   "metadata": {},
   "outputs": [
    {
     "data": {
      "text/html": [
       "<div>\n",
       "<style scoped>\n",
       "    .dataframe tbody tr th:only-of-type {\n",
       "        vertical-align: middle;\n",
       "    }\n",
       "\n",
       "    .dataframe tbody tr th {\n",
       "        vertical-align: top;\n",
       "    }\n",
       "\n",
       "    .dataframe thead th {\n",
       "        text-align: right;\n",
       "    }\n",
       "</style>\n",
       "<table border=\"1\" class=\"dataframe\">\n",
       "  <thead>\n",
       "    <tr style=\"text-align: right;\">\n",
       "      <th></th>\n",
       "      <th>text</th>\n",
       "    </tr>\n",
       "  </thead>\n",
       "  <tbody>\n",
       "    <tr>\n",
       "      <th>2190</th>\n",
       "      <td>kamindoz reuters debris confirm mh relatives h...</td>\n",
       "    </tr>\n",
       "    <tr>\n",
       "      <th>6527</th>\n",
       "      <td>autoinsurance industry clueless driverless car...</td>\n",
       "    </tr>\n",
       "    <tr>\n",
       "      <th>3273</th>\n",
       "      <td>carneross indeed remarkably puny idea place ep...</td>\n",
       "    </tr>\n",
       "    <tr>\n",
       "      <th>3851</th>\n",
       "      <td>gang walk round brown flame amp thats nd</td>\n",
       "    </tr>\n",
       "    <tr>\n",
       "      <th>3527</th>\n",
       "      <td>aug radio show article uo eyewitness account a...</td>\n",
       "    </tr>\n",
       "  </tbody>\n",
       "</table>\n",
       "</div>"
      ],
      "text/plain": [
       "                                                   text\n",
       "2190  kamindoz reuters debris confirm mh relatives h...\n",
       "6527  autoinsurance industry clueless driverless car...\n",
       "3273  carneross indeed remarkably puny idea place ep...\n",
       "3851           gang walk round brown flame amp thats nd\n",
       "3527  aug radio show article uo eyewitness account a..."
      ]
     },
     "execution_count": 18,
     "metadata": {},
     "output_type": "execute_result"
    }
   ],
   "source": [
    "disaster_train_preprocessed = disaster_train_data.apply(preprocess)\n",
    "disaster_develop_preprocessed = disaster_develop_data.apply(preprocess)\n",
    "disaster_train_preprocessed.head()"
   ]
  },
  {
   "cell_type": "markdown",
   "metadata": {},
   "source": [
    "### Bag of Words model"
   ]
  },
  {
   "cell_type": "code",
   "execution_count": 19,
   "metadata": {},
   "outputs": [],
   "source": [
    "from sklearn.feature_extraction.text import CountVectorizer"
   ]
  },
  {
   "cell_type": "markdown",
   "metadata": {},
   "source": [
    "#### Create vectors"
   ]
  },
  {
   "cell_type": "code",
   "execution_count": 20,
   "metadata": {},
   "outputs": [
    {
     "data": {
      "text/plain": [
       "(5329, 1804)"
      ]
     },
     "execution_count": 20,
     "metadata": {},
     "output_type": "execute_result"
    }
   ],
   "source": [
    "count_vect = CountVectorizer(min_df=5, binary=True)\n",
    "X_train = count_vect.fit_transform(disaster_train_preprocessed[\"text\"])\n",
    "X_develop = count_vect.transform(disaster_develop_preprocessed[\"text\"])\n",
    "y_train = disaster_train_target[\"target\"]\n",
    "y_develop = disaster_develop_target[\"target\"]\n",
    "X_train.shape"
   ]
  },
  {
   "cell_type": "markdown",
   "metadata": {},
   "source": [
    "### Logistic Regression"
   ]
  },
  {
   "cell_type": "code",
   "execution_count": 21,
   "metadata": {},
   "outputs": [],
   "source": [
    "from sklearn import feature_extraction, linear_model, model_selection, preprocessing\n",
    "from sklearn.linear_model import LogisticRegression\n",
    "from sklearn.metrics import f1_score"
   ]
  },
  {
   "cell_type": "markdown",
   "metadata": {},
   "source": [
    "#### Train (no regularization)"
   ]
  },
  {
   "cell_type": "code",
   "execution_count": 22,
   "metadata": {
    "scrolled": true
   },
   "outputs": [
    {
     "data": {
      "text/plain": [
       "LogisticRegression(max_iter=1000000, penalty='none')"
      ]
     },
     "execution_count": 22,
     "metadata": {},
     "output_type": "execute_result"
    }
   ],
   "source": [
    "clf_none = LogisticRegression(penalty='none', max_iter=int(1e6))\n",
    "clf_none.fit(X_train, disaster_train_target[\"target\"])"
   ]
  },
  {
   "cell_type": "markdown",
   "metadata": {},
   "source": [
    "#### Predict (no regularization)"
   ]
  },
  {
   "cell_type": "code",
   "execution_count": 23,
   "metadata": {},
   "outputs": [],
   "source": [
    "y_train_predicted = clf_none.predict(X_train)\n",
    "y_develop_predicted = clf_none.predict(X_develop)"
   ]
  },
  {
   "cell_type": "markdown",
   "metadata": {},
   "source": [
    "#### Evaluate (no regularization)"
   ]
  },
  {
   "cell_type": "code",
   "execution_count": 24,
   "metadata": {},
   "outputs": [
    {
     "name": "stdout",
     "output_type": "stream",
     "text": [
      "F1 score training set: 0.955650\n",
      "F1 score development set: 0.684395\n"
     ]
    }
   ],
   "source": [
    "cl0_f1_train_score = f1_score(y_train, y_train_predicted)\n",
    "cl0_f1_develop_score = f1_score(y_develop, y_develop_predicted)\n",
    "print('F1 score training set: %2f' % cl0_f1_train_score)\n",
    "print('F1 score development set: %2f' % cl0_f1_develop_score)"
   ]
  },
  {
   "cell_type": "markdown",
   "metadata": {},
   "source": [
    "#### Train (L1)"
   ]
  },
  {
   "cell_type": "code",
   "execution_count": 25,
   "metadata": {
    "scrolled": true
   },
   "outputs": [
    {
     "data": {
      "text/plain": [
       "LogisticRegression(intercept_scaling=10000.0, max_iter=1000000, penalty='l1',\n",
       "                   solver='liblinear', tol=1e-06, warm_start=True)"
      ]
     },
     "execution_count": 25,
     "metadata": {},
     "output_type": "execute_result"
    }
   ],
   "source": [
    "clf_l1 = linear_model.LogisticRegression(penalty='l1', solver='liblinear',\n",
    "                                      tol=1e-6, max_iter=int(1e6),\n",
    "                                      warm_start=True,\n",
    "                                      intercept_scaling=10000.)\n",
    "clf_l1.fit(X_train, disaster_train_target[\"target\"])"
   ]
  },
  {
   "cell_type": "markdown",
   "metadata": {},
   "source": [
    "#### Predict (L1)"
   ]
  },
  {
   "cell_type": "code",
   "execution_count": 26,
   "metadata": {},
   "outputs": [],
   "source": [
    "y_train_predicted = clf_l1.predict(X_train)\n",
    "y_develop_predicted = clf_l1.predict(X_develop)"
   ]
  },
  {
   "cell_type": "markdown",
   "metadata": {},
   "source": [
    "#### Evaluate (L1)"
   ]
  },
  {
   "cell_type": "code",
   "execution_count": 27,
   "metadata": {},
   "outputs": [
    {
     "name": "stdout",
     "output_type": "stream",
     "text": [
      "F1 score training set: 0.833568\n",
      "F1 score development set: 0.727575\n"
     ]
    }
   ],
   "source": [
    "cl1_f1_train_score = f1_score(y_train, y_train_predicted)\n",
    "cl1_f1_develop_score = f1_score(y_develop, y_develop_predicted)\n",
    "print('F1 score training set: %2f' % cl1_f1_train_score)\n",
    "print('F1 score development set: %2f' % cl1_f1_develop_score)"
   ]
  },
  {
   "cell_type": "markdown",
   "metadata": {},
   "source": [
    "#### Train (L2)"
   ]
  },
  {
   "cell_type": "code",
   "execution_count": 28,
   "metadata": {
    "scrolled": true
   },
   "outputs": [
    {
     "data": {
      "text/plain": [
       "LogisticRegression(max_iter=1000000)"
      ]
     },
     "execution_count": 28,
     "metadata": {},
     "output_type": "execute_result"
    }
   ],
   "source": [
    "clf_l2 = linear_model.LogisticRegression(max_iter=int(1e6))\n",
    "clf_l2.fit(X_train, disaster_train_target[\"target\"])"
   ]
  },
  {
   "cell_type": "markdown",
   "metadata": {},
   "source": [
    "#### Predict (L2)"
   ]
  },
  {
   "cell_type": "code",
   "execution_count": 29,
   "metadata": {},
   "outputs": [],
   "source": [
    "y_train_predicted = clf_l2.predict(X_train)\n",
    "y_develop_predicted = clf_l2.predict(X_develop)"
   ]
  },
  {
   "cell_type": "markdown",
   "metadata": {},
   "source": [
    "#### Evaluate (L2)"
   ]
  },
  {
   "cell_type": "code",
   "execution_count": 30,
   "metadata": {},
   "outputs": [
    {
     "name": "stdout",
     "output_type": "stream",
     "text": [
      "F1 score training set: 0.862053\n",
      "F1 score development set: 0.741971\n"
     ]
    }
   ],
   "source": [
    "cl2_f1_train_score = f1_score(y_train, y_train_predicted)\n",
    "cl2_f1_develop_score = f1_score(y_develop, y_develop_predicted)\n",
    "print('F1 score training set: %2f' % cl2_f1_train_score)\n",
    "print('F1 score development set: %2f' % cl2_f1_develop_score)"
   ]
  },
  {
   "cell_type": "markdown",
   "metadata": {},
   "source": [
    "#### Most relevant words"
   ]
  },
  {
   "cell_type": "code",
   "execution_count": 31,
   "metadata": {},
   "outputs": [
    {
     "data": {
      "text/html": [
       "<div>\n",
       "<style scoped>\n",
       "    .dataframe tbody tr th:only-of-type {\n",
       "        vertical-align: middle;\n",
       "    }\n",
       "\n",
       "    .dataframe tbody tr th {\n",
       "        vertical-align: top;\n",
       "    }\n",
       "\n",
       "    .dataframe thead th {\n",
       "        text-align: right;\n",
       "    }\n",
       "</style>\n",
       "<table border=\"1\" class=\"dataframe\">\n",
       "  <thead>\n",
       "    <tr style=\"text-align: right;\">\n",
       "      <th></th>\n",
       "      <th>word</th>\n",
       "      <th>theta</th>\n",
       "    </tr>\n",
       "  </thead>\n",
       "  <tbody>\n",
       "    <tr>\n",
       "      <th>727</th>\n",
       "      <td>hiroshima</td>\n",
       "      <td>3.750712</td>\n",
       "    </tr>\n",
       "    <tr>\n",
       "      <th>406</th>\n",
       "      <td>derailment</td>\n",
       "      <td>3.421640</td>\n",
       "    </tr>\n",
       "    <tr>\n",
       "      <th>470</th>\n",
       "      <td>earthquake</td>\n",
       "      <td>3.340051</td>\n",
       "    </tr>\n",
       "    <tr>\n",
       "      <th>390</th>\n",
       "      <td>debris</td>\n",
       "      <td>3.216067</td>\n",
       "    </tr>\n",
       "    <tr>\n",
       "      <th>1460</th>\n",
       "      <td>spill</td>\n",
       "      <td>3.178457</td>\n",
       "    </tr>\n",
       "    <tr>\n",
       "      <th>1656</th>\n",
       "      <td>typhoon</td>\n",
       "      <td>2.719141</td>\n",
       "    </tr>\n",
       "    <tr>\n",
       "      <th>475</th>\n",
       "      <td>ebola</td>\n",
       "      <td>2.632298</td>\n",
       "    </tr>\n",
       "    <tr>\n",
       "      <th>1742</th>\n",
       "      <td>wildfire</td>\n",
       "      <td>2.614553</td>\n",
       "    </tr>\n",
       "    <tr>\n",
       "      <th>471</th>\n",
       "      <td>east</td>\n",
       "      <td>2.546805</td>\n",
       "    </tr>\n",
       "    <tr>\n",
       "      <th>780</th>\n",
       "      <td>incident</td>\n",
       "      <td>2.469470</td>\n",
       "    </tr>\n",
       "  </tbody>\n",
       "</table>\n",
       "</div>"
      ],
      "text/plain": [
       "            word     theta\n",
       "727    hiroshima  3.750712\n",
       "406   derailment  3.421640\n",
       "470   earthquake  3.340051\n",
       "390       debris  3.216067\n",
       "1460       spill  3.178457\n",
       "1656     typhoon  2.719141\n",
       "475        ebola  2.632298\n",
       "1742    wildfire  2.614553\n",
       "471         east  2.546805\n",
       "780     incident  2.469470"
      ]
     },
     "execution_count": 31,
     "metadata": {},
     "output_type": "execute_result"
    }
   ],
   "source": [
    "theta = clf_l1.coef_.flatten()\n",
    "words = count_vect.get_feature_names()\n",
    "\n",
    "top_words = pd.DataFrame(zip(words, theta), columns=[\"word\", \"theta\"])\n",
    "top_words = top_words.sort_values(\"theta\", ascending=False)\n",
    "top_words.head(10)"
   ]
  },
  {
   "cell_type": "code",
   "execution_count": 32,
   "metadata": {},
   "outputs": [
    {
     "data": {
      "text/plain": [
       "Text(0.5, 0, 'Word')"
      ]
     },
     "execution_count": 32,
     "metadata": {},
     "output_type": "execute_result"
    },
    {
     "data": {
      "image/png": "[encoded data removed]",
      "text/plain": [
       "<Figure size 720x288 with 1 Axes>"
      ]
     },
     "metadata": {
      "needs_background": "light"
     },
     "output_type": "display_data"
    }
   ],
   "source": [
    "import seaborn as sns\n",
    "fig, ax = plt.subplots(1, 1, figsize=(10, 4))\n",
    "sns.barplot(x=\"word\", y=\"theta\", data=top_words.head(30), palette = sns.color_palette([\"#1DA1F2\"]))\n",
    "ax.set_xticklabels(ax.get_xticklabels(), rotation=90, fontsize=15)\n",
    "ax.set_title(\"Relevant words\", fontsize=15)\n",
    "ax.set_ylabel(\"Coef\", fontsize=15)\n",
    "ax.set_xlabel(\"Word\", fontsize=15)"
   ]
  },
  {
   "cell_type": "markdown",
   "metadata": {},
   "source": [
    "### Bernoulli Naive Bayes"
   ]
  },
  {
   "cell_type": "code",
   "execution_count": 33,
   "metadata": {},
   "outputs": [],
   "source": [
    "def nb_parameters(x, K):\n",
    "    n = x.shape[0] # size of the dataset\n",
    "    d = x.shape[1] # number of features\n",
    "\n",
    "    psis = np.zeros([K,d])\n",
    "    phis = np.zeros([K])\n",
    "\n",
    "    for k in range(K):\n",
    "        X_k = X_train[y_train == k]\n",
    "        psis[k] = np.mean(X_k, axis=0)\n",
    "        phis[k] = X_k.shape[0] / float(n)\n",
    "        \n",
    "    return (psis, phis)"
   ]
  },
  {
   "cell_type": "code",
   "execution_count": 34,
   "metadata": {},
   "outputs": [],
   "source": [
    "def nb_predictions(x, psis, phis, K):\n",
    "    n, d = x.shape\n",
    "    x = np.reshape(x, (1, n, d))\n",
    "    psis = np.reshape(psis, (K, 1, d))\n",
    "    \n",
    "    psis = psis.clip(1e-14, 1-1e-14)\n",
    "    logpy = np.log(phis).reshape([K,1])\n",
    "    logpxy = x * np.log(psis) + (1-x) * np.log(1-psis)\n",
    "    logpyx = logpxy.sum(axis=2) + logpy\n",
    "    return logpyx.argmax(axis=0).flatten(), logpyx.reshape([K,n])"
   ]
  },
  {
   "cell_type": "markdown",
   "metadata": {},
   "source": [
    "#### Train"
   ]
  },
  {
   "cell_type": "code",
   "execution_count": 35,
   "metadata": {},
   "outputs": [],
   "source": [
    "psis, phis = nb_parameters(X_train, 2)"
   ]
  },
  {
   "cell_type": "markdown",
   "metadata": {},
   "source": [
    "#### Predict"
   ]
  },
  {
   "cell_type": "code",
   "execution_count": 36,
   "metadata": {},
   "outputs": [],
   "source": [
    "y_train_predicted, logpyx_new = nb_predictions(X_train.toarray(), psis, phis, 2)\n",
    "y_develop_predicted, logpyx_new = nb_predictions(X_develop.toarray(), psis, phis, 2)"
   ]
  },
  {
   "cell_type": "markdown",
   "metadata": {},
   "source": [
    "#### Evaluate"
   ]
  },
  {
   "cell_type": "code",
   "execution_count": 37,
   "metadata": {},
   "outputs": [
    {
     "name": "stdout",
     "output_type": "stream",
     "text": [
      "F1 score training set: 0.809042\n",
      "F1 score development set: 0.744340\n"
     ]
    }
   ],
   "source": [
    "nb_f1_train_score = f1_score(y_train, y_train_predicted)\n",
    "nb_f1_develop_score = f1_score(y_develop, y_develop_predicted)\n",
    "print('F1 score training set: %2f' % nb_f1_train_score)\n",
    "print('F1 score development set: %2f' % nb_f1_develop_score)"
   ]
  },
  {
   "cell_type": "markdown",
   "metadata": {},
   "source": [
    "### Model comparison"
   ]
  },
  {
   "cell_type": "code",
   "execution_count": 38,
   "metadata": {},
   "outputs": [
    {
     "name": "stdout",
     "output_type": "stream",
     "text": [
      "Training Set\n",
      "Logistic Regression (No Regularizer): 0.955650\n",
      "Logistic Regression (L1): 0.833568\n",
      "Logistic Regression (L2): 0.862053\n",
      "Naive Bayes: 0.809042\n",
      "\n",
      "Development Set\n",
      "Logistic Regression (No Regularizer): 0.684395\n",
      "Logistic Regression (L1): 0.727575\n",
      "Logistic Regression (L2): 0.741971\n",
      "Naive Bayes: 0.744340\n"
     ]
    }
   ],
   "source": [
    "print('Training Set')\n",
    "print('Logistic Regression (No Regularizer): %2f' % cl0_f1_train_score)\n",
    "print('Logistic Regression (L1): %2f' % cl1_f1_train_score)\n",
    "print('Logistic Regression (L2): %2f' % cl2_f1_train_score)\n",
    "print('Naive Bayes: %2f' % nb_f1_train_score)\n",
    "\n",
    "print('\\nDevelopment Set')\n",
    "print('Logistic Regression (No Regularizer): %2f' % cl0_f1_develop_score)\n",
    "print('Logistic Regression (L1): %2f' % cl1_f1_develop_score)\n",
    "print('Logistic Regression (L2): %2f' % cl2_f1_develop_score)\n",
    "print('Naive Bayes: %2f' % nb_f1_develop_score)"
   ]
  }
 ],
 "metadata": {
  "kernelspec": {
   "display_name": "Python 3",
   "language": "python",
   "name": "python3"
  },
  "language_info": {
   "codemirror_mode": {
    "name": "ipython",
    "version": 3
   },
   "file_extension": ".py",
   "mimetype": "text/x-python",
   "name": "python",
   "nbconvert_exporter": "python",
   "pygments_lexer": "ipython3",
   "version": "3.8.8"
  }
 },
 "nbformat": 4,
 "nbformat_minor": 2
}
